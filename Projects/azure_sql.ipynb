{
  "cells": [
    {
      "cell_type": "code",
      "execution_count": 1,
      "metadata": {},
      "outputs": [
        {
          "data": {
            "application/vnd.livy.statement-meta+json": {
              "execution_finish_time": "2023-02-21T15:18:25.142005Z",
              "execution_start_time": "2023-02-21T15:18:24.97957Z",
              "livy_statement_state": "available",
              "parent_msg_id": "2611b028-a5dd-45f6-80a1-5a111d1446b2",
              "queued_time": "2023-02-21T15:14:34.7596646Z",
              "session_id": "73",
              "session_start_time": "2023-02-21T15:14:34.832473Z",
              "spark_jobs": null,
              "spark_pool": "sparkpool",
              "state": "finished",
              "statement_id": 1
            },
            "text/plain": [
              "StatementMeta(sparkpool, 73, 1, Finished, Available)"
            ]
          },
          "metadata": {},
          "output_type": "display_data"
        },
        {
          "data": {
            "text/html": [
              "\n",
              "            <div>\n",
              "                <p><b>SparkSession - hive</b></p>\n",
              "                \n",
              "        <div>\n",
              "            <p><b>SparkContext</b></p>\n",
              "\n",
              "            <p><a href=\"http://vm-a7935293:44289\">Spark UI</a></p>\n",
              "\n",
              "            <dl>\n",
              "              <dt>Version</dt>\n",
              "                <dd><code>v3.3.1.5.2-82353445</code></dd>\n",
              "              <dt>Master</dt>\n",
              "                <dd><code>yarn</code></dd>\n",
              "              <dt>AppName</dt>\n",
              "                <dd><code>azure_sql_sparkpool_1676992474</code></dd>\n",
              "            </dl>\n",
              "        </div>\n",
              "        \n",
              "            </div>\n",
              "        "
            ],
            "text/plain": [
              "<pyspark.sql.session.SparkSession at 0x7fa5fd9076d0>"
            ]
          },
          "execution_count": 5,
          "metadata": {},
          "output_type": "execute_result"
        }
      ],
      "source": [
        "spark"
      ]
    },
    {
      "cell_type": "code",
      "execution_count": 14,
      "metadata": {
        "jupyter": {
          "outputs_hidden": false,
          "source_hidden": false
        },
        "nteract": {
          "transient": {
            "deleting": false
          }
        }
      },
      "outputs": [
        {
          "data": {
            "application/vnd.livy.statement-meta+json": {
              "execution_finish_time": "2023-02-21T15:35:26.2509868Z",
              "execution_start_time": "2023-02-21T15:35:25.0919305Z",
              "livy_statement_state": "available",
              "parent_msg_id": "09056af8-711a-482d-ac7f-600d92615814",
              "queued_time": "2023-02-21T15:35:24.8888858Z",
              "session_id": "73",
              "session_start_time": null,
              "spark_jobs": null,
              "spark_pool": "sparkpool",
              "state": "finished",
              "statement_id": 14
            },
            "text/plain": [
              "StatementMeta(sparkpool, 73, 14, Finished, Available)"
            ]
          },
          "metadata": {},
          "output_type": "display_data"
        },
        {
          "data": {
            "text/plain": [
              "DataFrame[]"
            ]
          },
          "execution_count": 31,
          "metadata": {},
          "output_type": "execute_result"
        }
      ],
      "source": [
        "spark.sql(\"\"\"create table if not exists clickstream_test(\n",
        " time_stamp string,\n",
        " session_id string,\n",
        " session_user_id string,\n",
        " user_id string,\n",
        " search_term string,\n",
        " search_result_count string,\n",
        " autosuggest_prefix string,\n",
        " autosuggest_position integer,\n",
        " click_position string,\n",
        " device string,\n",
        " location string,\n",
        " sort string,\n",
        " product_id string,\n",
        " sale_info array<struct<price:string,product_id:string,qty:string>>,\n",
        " filter string,\n",
        " event_name string\n",
        ")\n",
        "USING PARQUET\n",
        "OPTIONS(path='abfss://devsearchfs@devsearchcroma.dfs.core.windows.net/test/tul/*.parquet');\"\"\")"
      ]
    },
    {
      "cell_type": "code",
      "execution_count": 2,
      "metadata": {
        "jupyter": {
          "outputs_hidden": false,
          "source_hidden": false
        },
        "nteract": {
          "transient": {
            "deleting": false
          }
        }
      },
      "outputs": [
        {
          "data": {
            "application/vnd.livy.statement-meta+json": {
              "execution_finish_time": "2023-02-21T15:25:09.2758895Z",
              "execution_start_time": "2023-02-21T15:24:52.4412489Z",
              "livy_statement_state": "available",
              "parent_msg_id": "56095eb5-b7c9-4243-8d6b-1e85519581fb",
              "queued_time": "2023-02-21T15:24:52.2779776Z",
              "session_id": "73",
              "session_start_time": null,
              "spark_jobs": null,
              "spark_pool": "sparkpool",
              "state": "finished",
              "statement_id": 2
            },
            "text/plain": [
              "StatementMeta(sparkpool, 73, 2, Finished, Available)"
            ]
          },
          "metadata": {},
          "output_type": "display_data"
        },
        {
          "data": {
            "text/plain": [
              "DataFrame[]"
            ]
          },
          "execution_count": 7,
          "metadata": {},
          "output_type": "execute_result"
        }
      ],
      "source": [
        "spark.sql(\"\"\"CREATE TABLE IF NOT EXISTS autosuggest\n",
        "(\n",
        "  date DATE,\n",
        "  search_term STRING,\n",
        "  autosuggest_prefix STRING,\n",
        "  autosuggest_position INT,\n",
        "  views INT,\n",
        "  wishlists INT,\n",
        "  cartadds INT,\n",
        "  orders INT,\n",
        "  order_units INT,\n",
        "  gmv FLOAT,\n",
        "  null_searches INT,\n",
        "  created_at TIMESTAMP,\n",
        "  updated_at TIMESTAMP,\n",
        "  year INT,\n",
        "  month INT,\n",
        "  day INT\n",
        ")\n",
        "USING DELTA\n",
        "PARTITIONED BY (year, month, day)\n",
        "OPTIONS (description = 'This table is PARTITIONED  by (year, month, day)');\"\"\")"
      ]
    },
    {
      "cell_type": "code",
      "execution_count": 13,
      "metadata": {
        "jupyter": {
          "outputs_hidden": false,
          "source_hidden": false
        },
        "nteract": {
          "transient": {
            "deleting": false
          }
        }
      },
      "outputs": [
        {
          "data": {
            "application/vnd.livy.statement-meta+json": {
              "execution_finish_time": "2023-02-21T15:35:20.3066355Z",
              "execution_start_time": "2023-02-21T15:35:18.4360595Z",
              "livy_statement_state": "available",
              "parent_msg_id": "24096cd6-e05a-4176-905b-abbade8f5b40",
              "queued_time": "2023-02-21T15:35:18.2489476Z",
              "session_id": "73",
              "session_start_time": null,
              "spark_jobs": null,
              "spark_pool": "sparkpool",
              "state": "finished",
              "statement_id": 13
            },
            "text/plain": [
              "StatementMeta(sparkpool, 73, 13, Finished, Available)"
            ]
          },
          "metadata": {},
          "output_type": "display_data"
        },
        {
          "data": {
            "text/plain": [
              "DataFrame[]"
            ]
          },
          "execution_count": 29,
          "metadata": {},
          "output_type": "execute_result"
        }
      ],
      "source": [
        "spark.sql(\"\"\"drop table clickstream_test\"\"\")"
      ]
    },
    {
      "cell_type": "code",
      "execution_count": null,
      "metadata": {
        "jupyter": {
          "outputs_hidden": false,
          "source_hidden": false
        },
        "nteract": {
          "transient": {
            "deleting": false
          }
        }
      },
      "outputs": [],
      "source": [
        "spark.sql(\"\"\"WITH target_max as (\n",
        "        select max(updated_at) as target_max_time from autosuggest\n",
        "    ),\n",
        "    source_max as(\n",
        "        select max(time_stamp) as source_max_time from clickstream_test\n",
        "    )\n",
        "MERGE INTO autosuggest as sink\n",
        "USING (\n",
        "    WITH source_data as\n",
        "      (\n",
        "        SELECT time_stamp, user_id, session_id, search_term, search_result_count, event_name, sale_info,\n",
        "        cast(autosuggest_position as int) autosuggest_position,autosuggest_prefix\n",
        "        FROM clickstream_test\n",
        "        WHERE search_term IS NOT NULL and autosuggest_prefix is NOT NULL and\n",
        "        CASE WHEN (select target_max_time from target_max) IS NULL THEN time_stamp <= CURRENT_TIMESTAMP() \n",
        "        ELSE time_stamp > (select target_max_time from target_max) END\n",
        "      ),\n",
        "    rest_metrics as\n",
        "    (\n",
        "      SELECT *, CONCAT(date, search_term, autosuggest_prefix, autosuggest_position) as joining_key FROM\n",
        "      (\n",
        "        SELECT date(time_stamp) as date, search_term, autosuggest_prefix, autosuggest_position,\n",
        "        COUNT(search_term) as searches,\n",
        "        SUM(case when cast(search_result_count as int)=0 then 1 else 0 end) as null_searches,\n",
        "        SUM(CASE WHEN event_name = 'PDPEvent' THEN 1 ELSE 0 END) as views,\n",
        "        SUM(CASE WHEN event_name = 'CartEvent' THEN 1 ELSE 0 END) as cartadds,\n",
        "        SUM(CASE WHEN event_name = 'WishlistEvent' THEN 1 ELSE 0 END) as wishlists\n",
        "        FROM (SELECT DISTINCT time_stamp,user_id,session_id,search_term,\n",
        "        search_result_count,autosuggest_prefix, autosuggest_position,event_name FROM source_data) x\n",
        "        GROUP BY 1,2,3,4\n",
        "      )\n",
        "    ),\n",
        "    order_metrics as\n",
        "    (\n",
        "      SELECT *, CONCAT(date, search_term, autosuggest_prefix, autosuggest_position) as joining_key FROM\n",
        "      (\n",
        "        SELECT date(time_stamp) date, search_term, autosuggest_prefix, autosuggest_position,\n",
        "        COUNT(*) as orders,\n",
        "        SUM(qty) as order_units,\n",
        "        SUM(gmv) as gmv\n",
        "        FROM\n",
        "        (\n",
        "          SELECT DISTINCT time_stamp as time_stamp, user_id, session_id, search_term, \n",
        "          autosuggest_prefix, autosuggest_position,\n",
        "          si.product_id as product_id,\n",
        "          si.qty as qty,\n",
        "          si.price as price,\n",
        "          (si.qty * si.price) as gmv,\n",
        "          event_name\n",
        "          FROM source_data LATERAL VIEW EXPLODE (sale_info) as si\n",
        "          WHERE event_name = 'order_event'\n",
        "        ) as x\n",
        "        GROUP BY 1,2,3,4\n",
        "        )\n",
        "    )\n",
        "    SELECT DISTINCT rm.date, year(rm.date) as year, month(rm.date) as month, day(rm.date) as day, \n",
        "    rm.search_term, rm.autosuggest_prefix,  \n",
        "    CAST(rm.autosuggest_position as INT) as autosuggest_position , \n",
        "    rm.views, rm.cartadds, rm.wishlists, \n",
        "    COALESCE(om.orders,0) as orders, COALESCE(om.order_units,0) as order_units, \n",
        "    COALESCE(om.gmv,0) as gmv, rm.null_searches\n",
        "    FROM rest_metrics as rm\n",
        "    LEFT JOIN order_metrics as om\n",
        "    ON rm.joining_key = om.joining_key\n",
        "    ) src\n",
        "ON sink.date = src.date and sink.search_term = src.search_term and sink.autosuggest_prefix = src.autosuggest_prefix\n",
        "   and sink.autosuggest_position = src.autosuggest_position\n",
        "WHEN MATCHED THEN UPDATE SET sink.views = sink.views+src.views, sink.cartadds = sink.cartadds+src.cartadds,\n",
        "                            sink.wishlists = sink.wishlists+src.wishlists, sink.gmv = sink.gmv+src.gmv,\n",
        "                             sink.updated_at = (select source_max_time from source_max), \n",
        "                             sink.orders = sink.orders+src.orders,\n",
        "                             sink.order_units = sink.order_units+src.order_units,\n",
        "                             sink.null_searches = sink.null_searches+src.null_searches\n",
        "WHEN NOT MATCHED THEN INSERT(date, search_term, autosuggest_prefix, autosuggest_position, views, cartadds, wishlists, orders, order_units, gmv, null_searches, created_at, updated_at, year, month, day)\n",
        "                      VALUES(src.date, src.search_term, src.autosuggest_prefix, src.autosuggest_position, src.views, src.cartadds, src.wishlists, src.orders, src.order_units,\n",
        "                             src.gmv, src.null_searches, \n",
        "                             (select source_max_time from source_max), \n",
        "                             (select source_max_time from source_max), src.year, src.month, src.day);\n",
        "    \"\"\")"
      ]
    },
    {
      "cell_type": "code",
      "execution_count": 27,
      "metadata": {
        "jupyter": {
          "outputs_hidden": false,
          "source_hidden": false
        },
        "nteract": {
          "transient": {
            "deleting": false
          }
        }
      },
      "outputs": [
        {
          "data": {
            "application/vnd.livy.statement-meta+json": {
              "execution_finish_time": "2023-02-21T15:52:41.173034Z",
              "execution_start_time": "2023-02-21T15:52:34.2396045Z",
              "livy_statement_state": "available",
              "parent_msg_id": "bac4bf25-22c8-43bb-915c-68120139afc6",
              "queued_time": "2023-02-21T15:52:34.0732292Z",
              "session_id": "73",
              "session_start_time": null,
              "spark_jobs": null,
              "spark_pool": "sparkpool",
              "state": "finished",
              "statement_id": 27
            },
            "text/plain": [
              "StatementMeta(sparkpool, 73, 27, Finished, Available)"
            ]
          },
          "metadata": {},
          "output_type": "display_data"
        },
        {
          "name": "stdout",
          "output_type": "stream",
          "text": [
            "+----------+----+-----+---+----------------------+----------------------+--------------------+-----+--------+---------+------+-----------+---+-------------+\n",
            "|date      |year|month|day|search_term           |autosuggest_prefix    |autosuggest_position|views|cartadds|wishlists|orders|order_units|gmv|null_searches|\n",
            "+----------+----+-----+---+----------------------+----------------------+--------------------+-----+--------+---------+------+-----------+---+-------------+\n",
            "|2022-09-01|2022|9    |1  |gaming tshirt for boys|gaming tshirt for boys|null                |0    |0       |0        |0     |0.0        |0.0|1            |\n",
            "|2022-09-01|2022|9    |1  |mens sweatshirts      |mens sweatshirts      |null                |0    |0       |0        |0     |0.0        |0.0|1            |\n",
            "+----------+----+-----+---+----------------------+----------------------+--------------------+-----+--------+---------+------+-----------+---+-------------+\n",
            "only showing top 2 rows\n",
            "\n"
          ]
        }
      ],
      "source": [
        "spark.sql(\"\"\"WITH target_max as (\n",
        "        select max(updated_at) as target_max_time from autosuggest\n",
        "    ),\n",
        "    source_max as(\n",
        "        select max(time_stamp) as source_max_time from clickstream_test\n",
        "    ), \n",
        "    source_data as\n",
        "      (\n",
        "        SELECT time_stamp, user_id, session_id, search_term, search_result_count, event_name, sale_info,\n",
        "        cast(autosuggest_position as int) autosuggest_position,autosuggest_prefix\n",
        "        FROM clickstream_test\n",
        "        WHERE search_term IS NOT NULL and autosuggest_prefix is NOT NULL and\n",
        "        CASE WHEN (select target_max_time from target_max) IS NULL THEN time_stamp <= CURRENT_TIMESTAMP() \n",
        "        ELSE time_stamp > (select target_max_time from target_max) END\n",
        "      ),\n",
        "    rest_metrics as\n",
        "    (\n",
        "      SELECT *, CONCAT(date, search_term, autosuggest_prefix, autosuggest_position) as joining_key FROM\n",
        "      (\n",
        "        SELECT date(time_stamp) as date, search_term, autosuggest_prefix, autosuggest_position,\n",
        "        COUNT(search_term) as searches,\n",
        "        SUM(case when cast(search_result_count as int)=0 then 1 else 0 end) as null_searches,\n",
        "        SUM(CASE WHEN event_name = 'PDPEvent' THEN 1 ELSE 0 END) as views,\n",
        "        SUM(CASE WHEN event_name = 'CartEvent' THEN 1 ELSE 0 END) as cartadds,\n",
        "        SUM(CASE WHEN event_name = 'WishlistEvent' THEN 1 ELSE 0 END) as wishlists\n",
        "        FROM (SELECT DISTINCT time_stamp,user_id,session_id,search_term,\n",
        "        search_result_count,autosuggest_prefix, autosuggest_position,event_name FROM source_data) x\n",
        "        GROUP BY 1,2,3,4\n",
        "      )\n",
        "    ),\n",
        "    order_metrics as\n",
        "    (\n",
        "      SELECT *, CONCAT(date, search_term, autosuggest_prefix, autosuggest_position) as joining_key FROM\n",
        "      (\n",
        "        SELECT date(time_stamp) date, search_term, autosuggest_prefix, autosuggest_position,\n",
        "        COUNT(*) as orders,\n",
        "        SUM(qty) as order_units,\n",
        "        SUM(gmv) as gmv\n",
        "        FROM\n",
        "        (\n",
        "          SELECT DISTINCT time_stamp as time_stamp, user_id, session_id, search_term, \n",
        "          autosuggest_prefix, autosuggest_position,\n",
        "          si.product_id as product_id,\n",
        "          si.qty as qty,\n",
        "          si.price as price,\n",
        "          (si.qty * si.price) as gmv,\n",
        "          event_name\n",
        "          FROM source_data LATERAL VIEW EXPLODE (sale_info) as si\n",
        "          WHERE event_name = 'order_event'\n",
        "        ) as x\n",
        "        GROUP BY 1,2,3,4\n",
        "        )\n",
        "    )\n",
        "    SELECT DISTINCT rm.date, year(rm.date) as year, month(rm.date) as month, day(rm.date) as day, \n",
        "    rm.search_term, rm.autosuggest_prefix,  \n",
        "    CAST(rm.autosuggest_position as INT) as autosuggest_position , \n",
        "    rm.views, rm.cartadds, rm.wishlists, \n",
        "    COALESCE(om.orders,0) as orders, COALESCE(om.order_units,0) as order_units, \n",
        "    COALESCE(om.gmv,0) as gmv, rm.null_searches\n",
        "    FROM rest_metrics as rm\n",
        "    LEFT JOIN order_metrics as om\n",
        "    ON rm.joining_key = om.joining_key\"\"\").show(2, truncate=False)"
      ]
    },
    {
      "cell_type": "code",
      "execution_count": 21,
      "metadata": {
        "jupyter": {
          "outputs_hidden": false,
          "source_hidden": false
        },
        "nteract": {
          "transient": {
            "deleting": false
          }
        }
      },
      "outputs": [
        {
          "data": {
            "application/vnd.livy.statement-meta+json": {
              "execution_finish_time": "2023-02-21T15:44:01.9660011Z",
              "execution_start_time": "2023-02-21T15:44:00.8787878Z",
              "livy_statement_state": "available",
              "parent_msg_id": "731205af-d580-4030-97aa-e4f38e4964c6",
              "queued_time": "2023-02-21T15:44:00.7366501Z",
              "session_id": "73",
              "session_start_time": null,
              "spark_jobs": null,
              "spark_pool": "sparkpool",
              "state": "finished",
              "statement_id": 21
            },
            "text/plain": [
              "StatementMeta(sparkpool, 73, 21, Finished, Available)"
            ]
          },
          "metadata": {},
          "output_type": "display_data"
        },
        {
          "data": {
            "text/plain": [
              "0"
            ]
          },
          "execution_count": 45,
          "metadata": {},
          "output_type": "execute_result"
        }
      ],
      "source": [
        "spark.sql(\"\"\"select * from autosuggest\"\"\").count()"
      ]
    },
    {
      "cell_type": "markdown",
      "metadata": {
        "nteract": {
          "transient": {
            "deleting": false
          }
        }
      },
      "source": [
        "Autosuggest"
      ]
    },
    {
      "cell_type": "code",
      "execution_count": null,
      "metadata": {
        "jupyter": {
          "outputs_hidden": false,
          "source_hidden": false
        },
        "nteract": {
          "transient": {
            "deleting": false
          }
        }
      },
      "outputs": [],
      "source": [
        "WITH target_max as (\n",
        "        select max(updated_at) as target_max_time from autosuggest\n",
        "    ),\n",
        "source_max as(\n",
        "        select max(event_time) as source_max_time from clickstream\n",
        "    ),\n",
        "source_data as\n",
        "      (\n",
        "        SELECT event_time, user_id, session_id, search_term, search_result_count, event_type, sale_info,\n",
        "        cast(autosuggest_position as int) autosuggest_position,autosuggest_prefix\n",
        "        FROM clickstream_test\n",
        "        WHERE search_term IS NOT NULL and autosuggest_prefix is NOT NULL and\n",
        "        CASE WHEN (select target_max_time from target_max) IS NULL THEN event_time <= CURRENT_TIMESTAMP() \n",
        "        ELSE event_time > (select target_max_time from target_max) END\n",
        "      ),\n",
        "rest_metrics as\n",
        "    (\n",
        "      SELECT *, CONCAT(date, search_term, autosuggest_prefix, autosuggest_position) as joining_key FROM\n",
        "      (\n",
        "        SELECT date(event_time) as date, search_term, autosuggest_prefix, autosuggest_position,\n",
        "        COUNT(search_term) as searches,\n",
        "        SUM(case when cast(search_result_count as int)=0 then 1 else 0 end) as null_searches,\n",
        "        SUM(CASE WHEN event_type = 'PDPEvent' THEN 1 ELSE 0 END) as views,\n",
        "        SUM(CASE WHEN event_type = 'CartEvent' THEN 1 ELSE 0 END) as cartadds,\n",
        "        SUM(CASE WHEN event_type = 'WishlistEvent' THEN 1 ELSE 0 END) as wishlists\n",
        "        FROM (SELECT DISTINCT event_time,user_id,session_id,search_term,search_result_count,autosuggest_prefix, autosuggest_position,event_type FROM source_data) x\n",
        "        GROUP BY 1,2,3,4\n",
        "      )\n",
        "    ),\n",
        "order_metrics as\n",
        "    (\n",
        "      SELECT *, CONCAT(date, search_term, autosuggest_prefix, autosuggest_position) as joining_key FROM\n",
        "      (\n",
        "        SELECT date(event_time) date, search_term, autosuggest_prefix, autosuggest_position,\n",
        "        COUNT(*) as orders,\n",
        "        SUM(qty) as order_units,\n",
        "        SUM(gmv) as gmv\n",
        "        FROM\n",
        "        (\n",
        "          SELECT DISTINCT event_time as event_time, user_id, session_id, search_term, autosuggest_prefix, autosuggest_position,\n",
        "          si.product_id as product_id,\n",
        "          si.qty as qty,\n",
        "          si.price as price,\n",
        "          (si.qty * si.price) as gmv,\n",
        "          event_type\n",
        "          FROM source_data LATERAL VIEW EXPLODE (sale_info) as si\n",
        "          WHERE event_type = 'OrderEvent'\n",
        "        ) as x\n",
        "        GROUP BY 1,2,3,4\n",
        "        )\n",
        "    )\n",
        "SELECT DISTINCT rm.date, rm.search_term, rm.autosuggest_prefix,  CAST(rm.autosuggest_position as INT) as autosuggest_position , \n",
        "rm.views, rm.cartadds, rm.wishlists, \n",
        "COALESCE(om.orders,0) as orders, COALESCE(om.order_units,0) as order_units, \n",
        "COALESCE(om.gmv,0) as gmv, rm.null_searches\n",
        "FROM rest_metrics as rm\n",
        "LEFT JOIN order_metrics as om\n",
        "ON rm.joining_key = om.joining_key"
      ]
    }
  ],
  "metadata": {
    "kernel_info": {
      "name": "synapse_pyspark"
    },
    "kernelspec": {
      "display_name": "Python 3",
      "language": "python",
      "name": "python3"
    },
    "language_info": {
      "name": "python",
      "version": "3.9.1"
    },
    "save_output": true,
    "synapse_widget": {
      "state": {},
      "version": "0.1"
    },
    "vscode": {
      "interpreter": {
        "hash": "397704579725e15f5c7cb49fe5f0341eb7531c82d19f2c29d197e8b64ab5776b"
      }
    }
  },
  "nbformat": 4,
  "nbformat_minor": 2
}
