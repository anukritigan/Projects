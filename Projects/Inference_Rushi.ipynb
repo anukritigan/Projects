{
 "cells": [
  {
   "cell_type": "code",
   "execution_count": null,
   "id": "758041ef",
   "metadata": {},
   "outputs": [],
   "source": [
    "conda create -n env_pytorch python=3.6"
   ]
  },
  {
   "cell_type": "code",
   "execution_count": 38,
   "id": "f7e4119f",
   "metadata": {
    "ExecuteTime": {
     "end_time": "2022-08-10T07:07:45.090992Z",
     "start_time": "2022-08-10T07:07:37.670655Z"
    }
   },
   "outputs": [
    {
     "name": "stderr",
     "output_type": "stream",
     "text": [
      "[nltk_data] Downloading package stopwords to\n",
      "[nltk_data]     /Users/anukritigan/nltk_data...\n",
      "[nltk_data]   Package stopwords is already up-to-date!\n"
     ]
    }
   ],
   "source": [
    "import nltk\n",
    "from nltk.corpus import stopwords\n",
    "from sentence_transformers import SentenceTransformer, util\n",
    "import string\n",
    "nltk.download('stopwords')\n",
    "import pandas as pd\n",
    "from tqdm.notebook import tqdm\n",
    "from krovetzstemmer import Stemmer \n",
    "stemmer = Stemmer()"
   ]
  },
  {
   "cell_type": "code",
   "execution_count": 4,
   "id": "a0859b4e",
   "metadata": {},
   "outputs": [],
   "source": [
    "import torch"
   ]
  },
  {
   "cell_type": "code",
   "execution_count": 39,
   "id": "66725a05",
   "metadata": {
    "ExecuteTime": {
     "end_time": "2022-08-08T18:54:46.749598Z",
     "start_time": "2022-08-08T18:54:46.735563Z"
    }
   },
   "outputs": [],
   "source": [
    "ocassions_map  = pd.read_csv('groups_ocassion.csv') "
   ]
  },
  {
   "cell_type": "code",
   "execution_count": 40,
   "id": "fec91c8d",
   "metadata": {},
   "outputs": [
    {
     "data": {
      "text/html": [
       "<div>\n",
       "<style scoped>\n",
       "    .dataframe tbody tr th:only-of-type {\n",
       "        vertical-align: middle;\n",
       "    }\n",
       "\n",
       "    .dataframe tbody tr th {\n",
       "        vertical-align: top;\n",
       "    }\n",
       "\n",
       "    .dataframe thead th {\n",
       "        text-align: right;\n",
       "    }\n",
       "</style>\n",
       "<table border=\"1\" class=\"dataframe\">\n",
       "  <thead>\n",
       "    <tr style=\"text-align: right;\">\n",
       "      <th></th>\n",
       "      <th>tail</th>\n",
       "      <th>kmeans</th>\n",
       "      <th>head</th>\n",
       "    </tr>\n",
       "  </thead>\n",
       "  <tbody>\n",
       "    <tr>\n",
       "      <th>0</th>\n",
       "      <td>sports</td>\n",
       "      <td>3.0</td>\n",
       "      <td>sport</td>\n",
       "    </tr>\n",
       "    <tr>\n",
       "      <th>1</th>\n",
       "      <td>sport</td>\n",
       "      <td>3.0</td>\n",
       "      <td>sport</td>\n",
       "    </tr>\n",
       "    <tr>\n",
       "      <th>2</th>\n",
       "      <td>sports wear</td>\n",
       "      <td>1.0</td>\n",
       "      <td>sport</td>\n",
       "    </tr>\n",
       "    <tr>\n",
       "      <th>3</th>\n",
       "      <td>sport wear</td>\n",
       "      <td>1.0</td>\n",
       "      <td>sport</td>\n",
       "    </tr>\n",
       "    <tr>\n",
       "      <th>4</th>\n",
       "      <td>club wear</td>\n",
       "      <td>1.0</td>\n",
       "      <td>party</td>\n",
       "    </tr>\n",
       "    <tr>\n",
       "      <th>5</th>\n",
       "      <td>casual</td>\n",
       "      <td>0.0</td>\n",
       "      <td>casual</td>\n",
       "    </tr>\n",
       "    <tr>\n",
       "      <th>6</th>\n",
       "      <td>casuals</td>\n",
       "      <td>0.0</td>\n",
       "      <td>casual</td>\n",
       "    </tr>\n",
       "    <tr>\n",
       "      <th>7</th>\n",
       "      <td>formal wear</td>\n",
       "      <td>0.0</td>\n",
       "      <td>formal</td>\n",
       "    </tr>\n",
       "    <tr>\n",
       "      <th>8</th>\n",
       "      <td>casual wear</td>\n",
       "      <td>0.0</td>\n",
       "      <td>casual</td>\n",
       "    </tr>\n",
       "    <tr>\n",
       "      <th>9</th>\n",
       "      <td>wedding</td>\n",
       "      <td>2.0</td>\n",
       "      <td>wedding</td>\n",
       "    </tr>\n",
       "    <tr>\n",
       "      <th>10</th>\n",
       "      <td>wedding wear</td>\n",
       "      <td>0.0</td>\n",
       "      <td>wedding</td>\n",
       "    </tr>\n",
       "    <tr>\n",
       "      <th>11</th>\n",
       "      <td>weddings</td>\n",
       "      <td>2.0</td>\n",
       "      <td>wedding</td>\n",
       "    </tr>\n",
       "    <tr>\n",
       "      <th>12</th>\n",
       "      <td>indoor</td>\n",
       "      <td>4.0</td>\n",
       "      <td>indoor</td>\n",
       "    </tr>\n",
       "    <tr>\n",
       "      <th>13</th>\n",
       "      <td>outdoor</td>\n",
       "      <td>4.0</td>\n",
       "      <td>outdoor</td>\n",
       "    </tr>\n",
       "    <tr>\n",
       "      <th>14</th>\n",
       "      <td>indoors</td>\n",
       "      <td>4.0</td>\n",
       "      <td>indoor</td>\n",
       "    </tr>\n",
       "    <tr>\n",
       "      <th>15</th>\n",
       "      <td>winter wear</td>\n",
       "      <td>1.0</td>\n",
       "      <td>winter</td>\n",
       "    </tr>\n",
       "    <tr>\n",
       "      <th>16</th>\n",
       "      <td>winter</td>\n",
       "      <td>2.0</td>\n",
       "      <td>winter</td>\n",
       "    </tr>\n",
       "    <tr>\n",
       "      <th>17</th>\n",
       "      <td>summer wear</td>\n",
       "      <td>1.0</td>\n",
       "      <td>cotton</td>\n",
       "    </tr>\n",
       "    <tr>\n",
       "      <th>18</th>\n",
       "      <td>track</td>\n",
       "      <td>3.0</td>\n",
       "      <td>track</td>\n",
       "    </tr>\n",
       "    <tr>\n",
       "      <th>19</th>\n",
       "      <td>track wear</td>\n",
       "      <td>1.0</td>\n",
       "      <td>track</td>\n",
       "    </tr>\n",
       "    <tr>\n",
       "      <th>20</th>\n",
       "      <td>tracking</td>\n",
       "      <td>3.0</td>\n",
       "      <td>track</td>\n",
       "    </tr>\n",
       "    <tr>\n",
       "      <th>21</th>\n",
       "      <td>festive</td>\n",
       "      <td>2.0</td>\n",
       "      <td>festive</td>\n",
       "    </tr>\n",
       "    <tr>\n",
       "      <th>22</th>\n",
       "      <td>party wear</td>\n",
       "      <td>0.0</td>\n",
       "      <td>party</td>\n",
       "    </tr>\n",
       "    <tr>\n",
       "      <th>23</th>\n",
       "      <td>festival wear</td>\n",
       "      <td>1.0</td>\n",
       "      <td>festive</td>\n",
       "    </tr>\n",
       "    <tr>\n",
       "      <th>24</th>\n",
       "      <td>festival</td>\n",
       "      <td>2.0</td>\n",
       "      <td>festive</td>\n",
       "    </tr>\n",
       "    <tr>\n",
       "      <th>25</th>\n",
       "      <td>christmas</td>\n",
       "      <td>2.0</td>\n",
       "      <td>festive</td>\n",
       "    </tr>\n",
       "    <tr>\n",
       "      <th>26</th>\n",
       "      <td>beach</td>\n",
       "      <td>3.0</td>\n",
       "      <td>beach</td>\n",
       "    </tr>\n",
       "    <tr>\n",
       "      <th>27</th>\n",
       "      <td>beach wear</td>\n",
       "      <td>1.0</td>\n",
       "      <td>beach</td>\n",
       "    </tr>\n",
       "    <tr>\n",
       "      <th>28</th>\n",
       "      <td>beachwear</td>\n",
       "      <td>1.0</td>\n",
       "      <td>beach</td>\n",
       "    </tr>\n",
       "    <tr>\n",
       "      <th>29</th>\n",
       "      <td>ethnic</td>\n",
       "      <td>5.0</td>\n",
       "      <td>ethnic</td>\n",
       "    </tr>\n",
       "    <tr>\n",
       "      <th>30</th>\n",
       "      <td>ethnic wear</td>\n",
       "      <td>5.0</td>\n",
       "      <td>ethnic</td>\n",
       "    </tr>\n",
       "    <tr>\n",
       "      <th>31</th>\n",
       "      <td>ethnics</td>\n",
       "      <td>5.0</td>\n",
       "      <td>ethnic</td>\n",
       "    </tr>\n",
       "    <tr>\n",
       "      <th>32</th>\n",
       "      <td>day wear</td>\n",
       "      <td>NaN</td>\n",
       "      <td>casual</td>\n",
       "    </tr>\n",
       "    <tr>\n",
       "      <th>33</th>\n",
       "      <td>day</td>\n",
       "      <td>2.0</td>\n",
       "      <td>casual</td>\n",
       "    </tr>\n",
       "    <tr>\n",
       "      <th>34</th>\n",
       "      <td>formal</td>\n",
       "      <td>0.0</td>\n",
       "      <td>formal</td>\n",
       "    </tr>\n",
       "    <tr>\n",
       "      <th>35</th>\n",
       "      <td>home</td>\n",
       "      <td>4.0</td>\n",
       "      <td>casual</td>\n",
       "    </tr>\n",
       "    <tr>\n",
       "      <th>36</th>\n",
       "      <td>party</td>\n",
       "      <td>4.0</td>\n",
       "      <td>party</td>\n",
       "    </tr>\n",
       "    <tr>\n",
       "      <th>37</th>\n",
       "      <td>everyday</td>\n",
       "      <td>4.0</td>\n",
       "      <td>casual</td>\n",
       "    </tr>\n",
       "    <tr>\n",
       "      <th>38</th>\n",
       "      <td>western wear</td>\n",
       "      <td>1.0</td>\n",
       "      <td>western</td>\n",
       "    </tr>\n",
       "    <tr>\n",
       "      <th>39</th>\n",
       "      <td>office</td>\n",
       "      <td>4.0</td>\n",
       "      <td>office</td>\n",
       "    </tr>\n",
       "    <tr>\n",
       "      <th>40</th>\n",
       "      <td>office wear</td>\n",
       "      <td>0.0</td>\n",
       "      <td>office</td>\n",
       "    </tr>\n",
       "    <tr>\n",
       "      <th>41</th>\n",
       "      <td>evening</td>\n",
       "      <td>2.0</td>\n",
       "      <td>evening</td>\n",
       "    </tr>\n",
       "    <tr>\n",
       "      <th>42</th>\n",
       "      <td>work wear</td>\n",
       "      <td>0.0</td>\n",
       "      <td>office</td>\n",
       "    </tr>\n",
       "    <tr>\n",
       "      <th>43</th>\n",
       "      <td>work</td>\n",
       "      <td>4.0</td>\n",
       "      <td>office</td>\n",
       "    </tr>\n",
       "    <tr>\n",
       "      <th>44</th>\n",
       "      <td>club</td>\n",
       "      <td>3.0</td>\n",
       "      <td>party</td>\n",
       "    </tr>\n",
       "    <tr>\n",
       "      <th>45</th>\n",
       "      <td>diwali</td>\n",
       "      <td>2.0</td>\n",
       "      <td>festive</td>\n",
       "    </tr>\n",
       "    <tr>\n",
       "      <th>46</th>\n",
       "      <td>summer</td>\n",
       "      <td>2.0</td>\n",
       "      <td>cotton</td>\n",
       "    </tr>\n",
       "    <tr>\n",
       "      <th>47</th>\n",
       "      <td>sleepwear</td>\n",
       "      <td>1.0</td>\n",
       "      <td>night</td>\n",
       "    </tr>\n",
       "    <tr>\n",
       "      <th>48</th>\n",
       "      <td>evening wear</td>\n",
       "      <td>0.0</td>\n",
       "      <td>evening</td>\n",
       "    </tr>\n",
       "  </tbody>\n",
       "</table>\n",
       "</div>"
      ],
      "text/plain": [
       "             tail  kmeans     head\n",
       "0          sports     3.0    sport\n",
       "1           sport     3.0    sport\n",
       "2     sports wear     1.0    sport\n",
       "3      sport wear     1.0    sport\n",
       "4       club wear     1.0    party\n",
       "5          casual     0.0   casual\n",
       "6         casuals     0.0   casual\n",
       "7     formal wear     0.0   formal\n",
       "8     casual wear     0.0   casual\n",
       "9         wedding     2.0  wedding\n",
       "10   wedding wear     0.0  wedding\n",
       "11       weddings     2.0  wedding\n",
       "12         indoor     4.0   indoor\n",
       "13        outdoor     4.0  outdoor\n",
       "14        indoors     4.0   indoor\n",
       "15    winter wear     1.0   winter\n",
       "16         winter     2.0   winter\n",
       "17    summer wear     1.0   cotton\n",
       "18          track     3.0    track\n",
       "19     track wear     1.0    track\n",
       "20       tracking     3.0    track\n",
       "21        festive     2.0  festive\n",
       "22     party wear     0.0    party\n",
       "23  festival wear     1.0  festive\n",
       "24       festival     2.0  festive\n",
       "25      christmas     2.0  festive\n",
       "26          beach     3.0    beach\n",
       "27     beach wear     1.0    beach\n",
       "28      beachwear     1.0    beach\n",
       "29         ethnic     5.0   ethnic\n",
       "30    ethnic wear     5.0   ethnic\n",
       "31        ethnics     5.0   ethnic\n",
       "32       day wear     NaN   casual\n",
       "33            day     2.0   casual\n",
       "34         formal     0.0   formal\n",
       "35           home     4.0   casual\n",
       "36          party     4.0    party\n",
       "37       everyday     4.0   casual\n",
       "38   western wear     1.0  western\n",
       "39         office     4.0   office\n",
       "40    office wear     0.0   office\n",
       "41        evening     2.0  evening\n",
       "42      work wear     0.0   office\n",
       "43           work     4.0   office\n",
       "44           club     3.0    party\n",
       "45         diwali     2.0  festive\n",
       "46         summer     2.0   cotton\n",
       "47      sleepwear     1.0    night\n",
       "48   evening wear     0.0  evening"
      ]
     },
     "execution_count": 40,
     "metadata": {},
     "output_type": "execute_result"
    }
   ],
   "source": [
    "ocassions_map"
   ]
  },
  {
   "cell_type": "code",
   "execution_count": 41,
   "id": "dfac7b92",
   "metadata": {
    "ExecuteTime": {
     "end_time": "2022-08-01T11:47:59.520509Z",
     "start_time": "2022-08-01T11:47:59.504694Z"
    }
   },
   "outputs": [],
   "source": [
    "ocassions_map['tail'] = ocassions_map['tail'].str.replace('wear','').str.strip()"
   ]
  },
  {
   "cell_type": "code",
   "execution_count": 42,
   "id": "892876d6",
   "metadata": {},
   "outputs": [
    {
     "data": {
      "text/html": [
       "<div>\n",
       "<style scoped>\n",
       "    .dataframe tbody tr th:only-of-type {\n",
       "        vertical-align: middle;\n",
       "    }\n",
       "\n",
       "    .dataframe tbody tr th {\n",
       "        vertical-align: top;\n",
       "    }\n",
       "\n",
       "    .dataframe thead th {\n",
       "        text-align: right;\n",
       "    }\n",
       "</style>\n",
       "<table border=\"1\" class=\"dataframe\">\n",
       "  <thead>\n",
       "    <tr style=\"text-align: right;\">\n",
       "      <th></th>\n",
       "      <th>tail</th>\n",
       "      <th>kmeans</th>\n",
       "      <th>head</th>\n",
       "    </tr>\n",
       "  </thead>\n",
       "  <tbody>\n",
       "    <tr>\n",
       "      <th>0</th>\n",
       "      <td>sports</td>\n",
       "      <td>3.0</td>\n",
       "      <td>sport</td>\n",
       "    </tr>\n",
       "    <tr>\n",
       "      <th>1</th>\n",
       "      <td>sport</td>\n",
       "      <td>3.0</td>\n",
       "      <td>sport</td>\n",
       "    </tr>\n",
       "    <tr>\n",
       "      <th>2</th>\n",
       "      <td>sports</td>\n",
       "      <td>1.0</td>\n",
       "      <td>sport</td>\n",
       "    </tr>\n",
       "    <tr>\n",
       "      <th>3</th>\n",
       "      <td>sport</td>\n",
       "      <td>1.0</td>\n",
       "      <td>sport</td>\n",
       "    </tr>\n",
       "    <tr>\n",
       "      <th>4</th>\n",
       "      <td>club</td>\n",
       "      <td>1.0</td>\n",
       "      <td>party</td>\n",
       "    </tr>\n",
       "    <tr>\n",
       "      <th>5</th>\n",
       "      <td>casual</td>\n",
       "      <td>0.0</td>\n",
       "      <td>casual</td>\n",
       "    </tr>\n",
       "    <tr>\n",
       "      <th>6</th>\n",
       "      <td>casuals</td>\n",
       "      <td>0.0</td>\n",
       "      <td>casual</td>\n",
       "    </tr>\n",
       "    <tr>\n",
       "      <th>7</th>\n",
       "      <td>formal</td>\n",
       "      <td>0.0</td>\n",
       "      <td>formal</td>\n",
       "    </tr>\n",
       "    <tr>\n",
       "      <th>8</th>\n",
       "      <td>casual</td>\n",
       "      <td>0.0</td>\n",
       "      <td>casual</td>\n",
       "    </tr>\n",
       "    <tr>\n",
       "      <th>9</th>\n",
       "      <td>wedding</td>\n",
       "      <td>2.0</td>\n",
       "      <td>wedding</td>\n",
       "    </tr>\n",
       "    <tr>\n",
       "      <th>10</th>\n",
       "      <td>wedding</td>\n",
       "      <td>0.0</td>\n",
       "      <td>wedding</td>\n",
       "    </tr>\n",
       "    <tr>\n",
       "      <th>11</th>\n",
       "      <td>weddings</td>\n",
       "      <td>2.0</td>\n",
       "      <td>wedding</td>\n",
       "    </tr>\n",
       "    <tr>\n",
       "      <th>12</th>\n",
       "      <td>indoor</td>\n",
       "      <td>4.0</td>\n",
       "      <td>indoor</td>\n",
       "    </tr>\n",
       "    <tr>\n",
       "      <th>13</th>\n",
       "      <td>outdoor</td>\n",
       "      <td>4.0</td>\n",
       "      <td>outdoor</td>\n",
       "    </tr>\n",
       "    <tr>\n",
       "      <th>14</th>\n",
       "      <td>indoors</td>\n",
       "      <td>4.0</td>\n",
       "      <td>indoor</td>\n",
       "    </tr>\n",
       "    <tr>\n",
       "      <th>15</th>\n",
       "      <td>winter</td>\n",
       "      <td>1.0</td>\n",
       "      <td>winter</td>\n",
       "    </tr>\n",
       "    <tr>\n",
       "      <th>16</th>\n",
       "      <td>winter</td>\n",
       "      <td>2.0</td>\n",
       "      <td>winter</td>\n",
       "    </tr>\n",
       "    <tr>\n",
       "      <th>17</th>\n",
       "      <td>summer</td>\n",
       "      <td>1.0</td>\n",
       "      <td>cotton</td>\n",
       "    </tr>\n",
       "    <tr>\n",
       "      <th>18</th>\n",
       "      <td>track</td>\n",
       "      <td>3.0</td>\n",
       "      <td>track</td>\n",
       "    </tr>\n",
       "    <tr>\n",
       "      <th>19</th>\n",
       "      <td>track</td>\n",
       "      <td>1.0</td>\n",
       "      <td>track</td>\n",
       "    </tr>\n",
       "    <tr>\n",
       "      <th>20</th>\n",
       "      <td>tracking</td>\n",
       "      <td>3.0</td>\n",
       "      <td>track</td>\n",
       "    </tr>\n",
       "    <tr>\n",
       "      <th>21</th>\n",
       "      <td>festive</td>\n",
       "      <td>2.0</td>\n",
       "      <td>festive</td>\n",
       "    </tr>\n",
       "    <tr>\n",
       "      <th>22</th>\n",
       "      <td>party</td>\n",
       "      <td>0.0</td>\n",
       "      <td>party</td>\n",
       "    </tr>\n",
       "    <tr>\n",
       "      <th>23</th>\n",
       "      <td>festival</td>\n",
       "      <td>1.0</td>\n",
       "      <td>festive</td>\n",
       "    </tr>\n",
       "    <tr>\n",
       "      <th>24</th>\n",
       "      <td>festival</td>\n",
       "      <td>2.0</td>\n",
       "      <td>festive</td>\n",
       "    </tr>\n",
       "    <tr>\n",
       "      <th>25</th>\n",
       "      <td>christmas</td>\n",
       "      <td>2.0</td>\n",
       "      <td>festive</td>\n",
       "    </tr>\n",
       "    <tr>\n",
       "      <th>26</th>\n",
       "      <td>beach</td>\n",
       "      <td>3.0</td>\n",
       "      <td>beach</td>\n",
       "    </tr>\n",
       "    <tr>\n",
       "      <th>27</th>\n",
       "      <td>beach</td>\n",
       "      <td>1.0</td>\n",
       "      <td>beach</td>\n",
       "    </tr>\n",
       "    <tr>\n",
       "      <th>28</th>\n",
       "      <td>beach</td>\n",
       "      <td>1.0</td>\n",
       "      <td>beach</td>\n",
       "    </tr>\n",
       "    <tr>\n",
       "      <th>29</th>\n",
       "      <td>ethnic</td>\n",
       "      <td>5.0</td>\n",
       "      <td>ethnic</td>\n",
       "    </tr>\n",
       "    <tr>\n",
       "      <th>30</th>\n",
       "      <td>ethnic</td>\n",
       "      <td>5.0</td>\n",
       "      <td>ethnic</td>\n",
       "    </tr>\n",
       "    <tr>\n",
       "      <th>31</th>\n",
       "      <td>ethnics</td>\n",
       "      <td>5.0</td>\n",
       "      <td>ethnic</td>\n",
       "    </tr>\n",
       "    <tr>\n",
       "      <th>32</th>\n",
       "      <td>day</td>\n",
       "      <td>NaN</td>\n",
       "      <td>casual</td>\n",
       "    </tr>\n",
       "    <tr>\n",
       "      <th>33</th>\n",
       "      <td>day</td>\n",
       "      <td>2.0</td>\n",
       "      <td>casual</td>\n",
       "    </tr>\n",
       "    <tr>\n",
       "      <th>34</th>\n",
       "      <td>formal</td>\n",
       "      <td>0.0</td>\n",
       "      <td>formal</td>\n",
       "    </tr>\n",
       "    <tr>\n",
       "      <th>35</th>\n",
       "      <td>home</td>\n",
       "      <td>4.0</td>\n",
       "      <td>casual</td>\n",
       "    </tr>\n",
       "    <tr>\n",
       "      <th>36</th>\n",
       "      <td>party</td>\n",
       "      <td>4.0</td>\n",
       "      <td>party</td>\n",
       "    </tr>\n",
       "    <tr>\n",
       "      <th>37</th>\n",
       "      <td>everyday</td>\n",
       "      <td>4.0</td>\n",
       "      <td>casual</td>\n",
       "    </tr>\n",
       "    <tr>\n",
       "      <th>38</th>\n",
       "      <td>western</td>\n",
       "      <td>1.0</td>\n",
       "      <td>western</td>\n",
       "    </tr>\n",
       "    <tr>\n",
       "      <th>39</th>\n",
       "      <td>office</td>\n",
       "      <td>4.0</td>\n",
       "      <td>office</td>\n",
       "    </tr>\n",
       "    <tr>\n",
       "      <th>40</th>\n",
       "      <td>office</td>\n",
       "      <td>0.0</td>\n",
       "      <td>office</td>\n",
       "    </tr>\n",
       "    <tr>\n",
       "      <th>41</th>\n",
       "      <td>evening</td>\n",
       "      <td>2.0</td>\n",
       "      <td>evening</td>\n",
       "    </tr>\n",
       "    <tr>\n",
       "      <th>42</th>\n",
       "      <td>work</td>\n",
       "      <td>0.0</td>\n",
       "      <td>office</td>\n",
       "    </tr>\n",
       "    <tr>\n",
       "      <th>43</th>\n",
       "      <td>work</td>\n",
       "      <td>4.0</td>\n",
       "      <td>office</td>\n",
       "    </tr>\n",
       "    <tr>\n",
       "      <th>44</th>\n",
       "      <td>club</td>\n",
       "      <td>3.0</td>\n",
       "      <td>party</td>\n",
       "    </tr>\n",
       "    <tr>\n",
       "      <th>45</th>\n",
       "      <td>diwali</td>\n",
       "      <td>2.0</td>\n",
       "      <td>festive</td>\n",
       "    </tr>\n",
       "    <tr>\n",
       "      <th>46</th>\n",
       "      <td>summer</td>\n",
       "      <td>2.0</td>\n",
       "      <td>cotton</td>\n",
       "    </tr>\n",
       "    <tr>\n",
       "      <th>47</th>\n",
       "      <td>sleep</td>\n",
       "      <td>1.0</td>\n",
       "      <td>night</td>\n",
       "    </tr>\n",
       "    <tr>\n",
       "      <th>48</th>\n",
       "      <td>evening</td>\n",
       "      <td>0.0</td>\n",
       "      <td>evening</td>\n",
       "    </tr>\n",
       "  </tbody>\n",
       "</table>\n",
       "</div>"
      ],
      "text/plain": [
       "         tail  kmeans     head\n",
       "0      sports     3.0    sport\n",
       "1       sport     3.0    sport\n",
       "2      sports     1.0    sport\n",
       "3       sport     1.0    sport\n",
       "4        club     1.0    party\n",
       "5      casual     0.0   casual\n",
       "6     casuals     0.0   casual\n",
       "7      formal     0.0   formal\n",
       "8      casual     0.0   casual\n",
       "9     wedding     2.0  wedding\n",
       "10    wedding     0.0  wedding\n",
       "11   weddings     2.0  wedding\n",
       "12     indoor     4.0   indoor\n",
       "13    outdoor     4.0  outdoor\n",
       "14    indoors     4.0   indoor\n",
       "15     winter     1.0   winter\n",
       "16     winter     2.0   winter\n",
       "17     summer     1.0   cotton\n",
       "18      track     3.0    track\n",
       "19      track     1.0    track\n",
       "20   tracking     3.0    track\n",
       "21    festive     2.0  festive\n",
       "22      party     0.0    party\n",
       "23   festival     1.0  festive\n",
       "24   festival     2.0  festive\n",
       "25  christmas     2.0  festive\n",
       "26      beach     3.0    beach\n",
       "27      beach     1.0    beach\n",
       "28      beach     1.0    beach\n",
       "29     ethnic     5.0   ethnic\n",
       "30     ethnic     5.0   ethnic\n",
       "31    ethnics     5.0   ethnic\n",
       "32        day     NaN   casual\n",
       "33        day     2.0   casual\n",
       "34     formal     0.0   formal\n",
       "35       home     4.0   casual\n",
       "36      party     4.0    party\n",
       "37   everyday     4.0   casual\n",
       "38    western     1.0  western\n",
       "39     office     4.0   office\n",
       "40     office     0.0   office\n",
       "41    evening     2.0  evening\n",
       "42       work     0.0   office\n",
       "43       work     4.0   office\n",
       "44       club     3.0    party\n",
       "45     diwali     2.0  festive\n",
       "46     summer     2.0   cotton\n",
       "47      sleep     1.0    night\n",
       "48    evening     0.0  evening"
      ]
     },
     "execution_count": 42,
     "metadata": {},
     "output_type": "execute_result"
    }
   ],
   "source": [
    "ocassions_map"
   ]
  },
  {
   "cell_type": "code",
   "execution_count": 43,
   "id": "50a1489f",
   "metadata": {
    "ExecuteTime": {
     "end_time": "2022-08-01T11:49:54.876318Z",
     "start_time": "2022-08-01T11:49:54.861368Z"
    }
   },
   "outputs": [],
   "source": [
    "ocassions_map = pd.concat([ocassions_map,pd.DataFrame({'tail':list(ocassions_map['head'].drop_duplicates()),'head':list(ocassions_map['head'].drop_duplicates())})])"
   ]
  },
  {
   "cell_type": "code",
   "execution_count": 44,
   "id": "1a08c4ff",
   "metadata": {
    "ExecuteTime": {
     "end_time": "2022-08-01T11:49:58.107865Z",
     "start_time": "2022-08-01T11:49:58.097862Z"
    }
   },
   "outputs": [],
   "source": [
    "ocassions_map = ocassions_map[['head','tail']].drop_duplicates()"
   ]
  },
  {
   "cell_type": "code",
   "execution_count": 45,
   "id": "5ca05dae",
   "metadata": {},
   "outputs": [
    {
     "data": {
      "text/html": [
       "<div>\n",
       "<style scoped>\n",
       "    .dataframe tbody tr th:only-of-type {\n",
       "        vertical-align: middle;\n",
       "    }\n",
       "\n",
       "    .dataframe tbody tr th {\n",
       "        vertical-align: top;\n",
       "    }\n",
       "\n",
       "    .dataframe thead th {\n",
       "        text-align: right;\n",
       "    }\n",
       "</style>\n",
       "<table border=\"1\" class=\"dataframe\">\n",
       "  <thead>\n",
       "    <tr style=\"text-align: right;\">\n",
       "      <th></th>\n",
       "      <th>head</th>\n",
       "      <th>tail</th>\n",
       "    </tr>\n",
       "  </thead>\n",
       "  <tbody>\n",
       "    <tr>\n",
       "      <th>0</th>\n",
       "      <td>sport</td>\n",
       "      <td>sports</td>\n",
       "    </tr>\n",
       "    <tr>\n",
       "      <th>1</th>\n",
       "      <td>sport</td>\n",
       "      <td>sport</td>\n",
       "    </tr>\n",
       "    <tr>\n",
       "      <th>4</th>\n",
       "      <td>party</td>\n",
       "      <td>club</td>\n",
       "    </tr>\n",
       "    <tr>\n",
       "      <th>5</th>\n",
       "      <td>casual</td>\n",
       "      <td>casual</td>\n",
       "    </tr>\n",
       "    <tr>\n",
       "      <th>6</th>\n",
       "      <td>casual</td>\n",
       "      <td>casuals</td>\n",
       "    </tr>\n",
       "    <tr>\n",
       "      <th>7</th>\n",
       "      <td>formal</td>\n",
       "      <td>formal</td>\n",
       "    </tr>\n",
       "    <tr>\n",
       "      <th>9</th>\n",
       "      <td>wedding</td>\n",
       "      <td>wedding</td>\n",
       "    </tr>\n",
       "    <tr>\n",
       "      <th>11</th>\n",
       "      <td>wedding</td>\n",
       "      <td>weddings</td>\n",
       "    </tr>\n",
       "    <tr>\n",
       "      <th>12</th>\n",
       "      <td>indoor</td>\n",
       "      <td>indoor</td>\n",
       "    </tr>\n",
       "    <tr>\n",
       "      <th>13</th>\n",
       "      <td>outdoor</td>\n",
       "      <td>outdoor</td>\n",
       "    </tr>\n",
       "    <tr>\n",
       "      <th>14</th>\n",
       "      <td>indoor</td>\n",
       "      <td>indoors</td>\n",
       "    </tr>\n",
       "    <tr>\n",
       "      <th>15</th>\n",
       "      <td>winter</td>\n",
       "      <td>winter</td>\n",
       "    </tr>\n",
       "    <tr>\n",
       "      <th>17</th>\n",
       "      <td>cotton</td>\n",
       "      <td>summer</td>\n",
       "    </tr>\n",
       "    <tr>\n",
       "      <th>18</th>\n",
       "      <td>track</td>\n",
       "      <td>track</td>\n",
       "    </tr>\n",
       "    <tr>\n",
       "      <th>20</th>\n",
       "      <td>track</td>\n",
       "      <td>tracking</td>\n",
       "    </tr>\n",
       "    <tr>\n",
       "      <th>21</th>\n",
       "      <td>festive</td>\n",
       "      <td>festive</td>\n",
       "    </tr>\n",
       "    <tr>\n",
       "      <th>22</th>\n",
       "      <td>party</td>\n",
       "      <td>party</td>\n",
       "    </tr>\n",
       "    <tr>\n",
       "      <th>23</th>\n",
       "      <td>festive</td>\n",
       "      <td>festival</td>\n",
       "    </tr>\n",
       "    <tr>\n",
       "      <th>25</th>\n",
       "      <td>festive</td>\n",
       "      <td>christmas</td>\n",
       "    </tr>\n",
       "    <tr>\n",
       "      <th>26</th>\n",
       "      <td>beach</td>\n",
       "      <td>beach</td>\n",
       "    </tr>\n",
       "    <tr>\n",
       "      <th>29</th>\n",
       "      <td>ethnic</td>\n",
       "      <td>ethnic</td>\n",
       "    </tr>\n",
       "    <tr>\n",
       "      <th>31</th>\n",
       "      <td>ethnic</td>\n",
       "      <td>ethnics</td>\n",
       "    </tr>\n",
       "    <tr>\n",
       "      <th>32</th>\n",
       "      <td>casual</td>\n",
       "      <td>day</td>\n",
       "    </tr>\n",
       "    <tr>\n",
       "      <th>35</th>\n",
       "      <td>casual</td>\n",
       "      <td>home</td>\n",
       "    </tr>\n",
       "    <tr>\n",
       "      <th>37</th>\n",
       "      <td>casual</td>\n",
       "      <td>everyday</td>\n",
       "    </tr>\n",
       "    <tr>\n",
       "      <th>38</th>\n",
       "      <td>western</td>\n",
       "      <td>western</td>\n",
       "    </tr>\n",
       "    <tr>\n",
       "      <th>39</th>\n",
       "      <td>office</td>\n",
       "      <td>office</td>\n",
       "    </tr>\n",
       "    <tr>\n",
       "      <th>41</th>\n",
       "      <td>evening</td>\n",
       "      <td>evening</td>\n",
       "    </tr>\n",
       "    <tr>\n",
       "      <th>42</th>\n",
       "      <td>office</td>\n",
       "      <td>work</td>\n",
       "    </tr>\n",
       "    <tr>\n",
       "      <th>45</th>\n",
       "      <td>festive</td>\n",
       "      <td>diwali</td>\n",
       "    </tr>\n",
       "    <tr>\n",
       "      <th>47</th>\n",
       "      <td>night</td>\n",
       "      <td>sleep</td>\n",
       "    </tr>\n",
       "    <tr>\n",
       "      <th>8</th>\n",
       "      <td>cotton</td>\n",
       "      <td>cotton</td>\n",
       "    </tr>\n",
       "    <tr>\n",
       "      <th>16</th>\n",
       "      <td>night</td>\n",
       "      <td>night</td>\n",
       "    </tr>\n",
       "  </tbody>\n",
       "</table>\n",
       "</div>"
      ],
      "text/plain": [
       "       head       tail\n",
       "0     sport     sports\n",
       "1     sport      sport\n",
       "4     party       club\n",
       "5    casual     casual\n",
       "6    casual    casuals\n",
       "7    formal     formal\n",
       "9   wedding    wedding\n",
       "11  wedding   weddings\n",
       "12   indoor     indoor\n",
       "13  outdoor    outdoor\n",
       "14   indoor    indoors\n",
       "15   winter     winter\n",
       "17   cotton     summer\n",
       "18    track      track\n",
       "20    track   tracking\n",
       "21  festive    festive\n",
       "22    party      party\n",
       "23  festive   festival\n",
       "25  festive  christmas\n",
       "26    beach      beach\n",
       "29   ethnic     ethnic\n",
       "31   ethnic    ethnics\n",
       "32   casual        day\n",
       "35   casual       home\n",
       "37   casual   everyday\n",
       "38  western    western\n",
       "39   office     office\n",
       "41  evening    evening\n",
       "42   office       work\n",
       "45  festive     diwali\n",
       "47    night      sleep\n",
       "8    cotton     cotton\n",
       "16    night      night"
      ]
     },
     "execution_count": 45,
     "metadata": {},
     "output_type": "execute_result"
    }
   ],
   "source": [
    "ocassions_map"
   ]
  },
  {
   "cell_type": "code",
   "execution_count": 46,
   "id": "8bd59e6d",
   "metadata": {
    "ExecuteTime": {
     "end_time": "2022-08-01T11:55:48.622237Z",
     "start_time": "2022-08-01T11:55:48.607907Z"
    }
   },
   "outputs": [
    {
     "name": "stdout",
     "output_type": "stream",
     "text": [
      "{'sports': 'sport', 'sport': 'sport', 'club': 'party', 'casual': 'casual', 'casuals': 'casual', 'formal': 'formal', 'wedding': 'wedding', 'weddings': 'wedding', 'indoor': 'indoor', 'outdoor': 'outdoor', 'indoors': 'indoor', 'winter': 'winter', 'summer': 'cotton', 'track': 'track', 'tracking': 'track', 'festive': 'festive', 'party': 'party', 'festival': 'festive', 'christmas': 'festive', 'beach': 'beach', 'ethnic': 'ethnic', 'ethnics': 'ethnic', 'day': 'casual', 'home': 'casual', 'everyday': 'casual', 'western': 'western', 'office': 'office', 'evening': 'evening', 'work': 'office', 'diwali': 'festive', 'sleep': 'night', 'cotton': 'cotton', 'night': 'night'}\n"
     ]
    }
   ],
   "source": [
    "print(dict(ocassions_map[['tail','head']].values))"
   ]
  },
  {
   "cell_type": "code",
   "execution_count": null,
   "id": "c0f90e4d",
   "metadata": {},
   "outputs": [],
   "source": []
  },
  {
   "cell_type": "code",
   "execution_count": 47,
   "id": "8cb268b3",
   "metadata": {
    "ExecuteTime": {
     "end_time": "2022-08-01T11:57:25.381183Z",
     "start_time": "2022-08-01T11:57:25.364280Z"
    }
   },
   "outputs": [
    {
     "data": {
      "text/html": [
       "<div>\n",
       "<style scoped>\n",
       "    .dataframe tbody tr th:only-of-type {\n",
       "        vertical-align: middle;\n",
       "    }\n",
       "\n",
       "    .dataframe tbody tr th {\n",
       "        vertical-align: top;\n",
       "    }\n",
       "\n",
       "    .dataframe thead th {\n",
       "        text-align: right;\n",
       "    }\n",
       "</style>\n",
       "<table border=\"1\" class=\"dataframe\">\n",
       "  <thead>\n",
       "    <tr style=\"text-align: right;\">\n",
       "      <th></th>\n",
       "      <th>head</th>\n",
       "      <th>tail</th>\n",
       "    </tr>\n",
       "  </thead>\n",
       "  <tbody>\n",
       "    <tr>\n",
       "      <th>0</th>\n",
       "      <td>sport</td>\n",
       "      <td>sports</td>\n",
       "    </tr>\n",
       "    <tr>\n",
       "      <th>1</th>\n",
       "      <td>sport</td>\n",
       "      <td>sport</td>\n",
       "    </tr>\n",
       "    <tr>\n",
       "      <th>4</th>\n",
       "      <td>party</td>\n",
       "      <td>club</td>\n",
       "    </tr>\n",
       "    <tr>\n",
       "      <th>5</th>\n",
       "      <td>casual</td>\n",
       "      <td>casual</td>\n",
       "    </tr>\n",
       "    <tr>\n",
       "      <th>6</th>\n",
       "      <td>casual</td>\n",
       "      <td>casuals</td>\n",
       "    </tr>\n",
       "    <tr>\n",
       "      <th>7</th>\n",
       "      <td>formal</td>\n",
       "      <td>formal</td>\n",
       "    </tr>\n",
       "    <tr>\n",
       "      <th>9</th>\n",
       "      <td>wedding</td>\n",
       "      <td>wedding</td>\n",
       "    </tr>\n",
       "    <tr>\n",
       "      <th>11</th>\n",
       "      <td>wedding</td>\n",
       "      <td>weddings</td>\n",
       "    </tr>\n",
       "    <tr>\n",
       "      <th>12</th>\n",
       "      <td>indoor</td>\n",
       "      <td>indoor</td>\n",
       "    </tr>\n",
       "    <tr>\n",
       "      <th>13</th>\n",
       "      <td>outdoor</td>\n",
       "      <td>outdoor</td>\n",
       "    </tr>\n",
       "    <tr>\n",
       "      <th>14</th>\n",
       "      <td>indoor</td>\n",
       "      <td>indoors</td>\n",
       "    </tr>\n",
       "    <tr>\n",
       "      <th>15</th>\n",
       "      <td>winter</td>\n",
       "      <td>winter</td>\n",
       "    </tr>\n",
       "    <tr>\n",
       "      <th>17</th>\n",
       "      <td>cotton</td>\n",
       "      <td>summer</td>\n",
       "    </tr>\n",
       "    <tr>\n",
       "      <th>18</th>\n",
       "      <td>track</td>\n",
       "      <td>track</td>\n",
       "    </tr>\n",
       "    <tr>\n",
       "      <th>20</th>\n",
       "      <td>track</td>\n",
       "      <td>tracking</td>\n",
       "    </tr>\n",
       "    <tr>\n",
       "      <th>21</th>\n",
       "      <td>festive</td>\n",
       "      <td>festive</td>\n",
       "    </tr>\n",
       "    <tr>\n",
       "      <th>22</th>\n",
       "      <td>party</td>\n",
       "      <td>party</td>\n",
       "    </tr>\n",
       "    <tr>\n",
       "      <th>23</th>\n",
       "      <td>festive</td>\n",
       "      <td>festival</td>\n",
       "    </tr>\n",
       "    <tr>\n",
       "      <th>25</th>\n",
       "      <td>festive</td>\n",
       "      <td>christmas</td>\n",
       "    </tr>\n",
       "    <tr>\n",
       "      <th>26</th>\n",
       "      <td>beach</td>\n",
       "      <td>beach</td>\n",
       "    </tr>\n",
       "    <tr>\n",
       "      <th>29</th>\n",
       "      <td>ethnic</td>\n",
       "      <td>ethnic</td>\n",
       "    </tr>\n",
       "    <tr>\n",
       "      <th>31</th>\n",
       "      <td>ethnic</td>\n",
       "      <td>ethnics</td>\n",
       "    </tr>\n",
       "    <tr>\n",
       "      <th>32</th>\n",
       "      <td>casual</td>\n",
       "      <td>day</td>\n",
       "    </tr>\n",
       "    <tr>\n",
       "      <th>35</th>\n",
       "      <td>casual</td>\n",
       "      <td>home</td>\n",
       "    </tr>\n",
       "    <tr>\n",
       "      <th>37</th>\n",
       "      <td>casual</td>\n",
       "      <td>everyday</td>\n",
       "    </tr>\n",
       "    <tr>\n",
       "      <th>38</th>\n",
       "      <td>western</td>\n",
       "      <td>western</td>\n",
       "    </tr>\n",
       "    <tr>\n",
       "      <th>39</th>\n",
       "      <td>office</td>\n",
       "      <td>office</td>\n",
       "    </tr>\n",
       "    <tr>\n",
       "      <th>41</th>\n",
       "      <td>evening</td>\n",
       "      <td>evening</td>\n",
       "    </tr>\n",
       "    <tr>\n",
       "      <th>42</th>\n",
       "      <td>office</td>\n",
       "      <td>work</td>\n",
       "    </tr>\n",
       "    <tr>\n",
       "      <th>45</th>\n",
       "      <td>festive</td>\n",
       "      <td>diwali</td>\n",
       "    </tr>\n",
       "    <tr>\n",
       "      <th>47</th>\n",
       "      <td>night</td>\n",
       "      <td>sleep</td>\n",
       "    </tr>\n",
       "    <tr>\n",
       "      <th>8</th>\n",
       "      <td>cotton</td>\n",
       "      <td>cotton</td>\n",
       "    </tr>\n",
       "    <tr>\n",
       "      <th>16</th>\n",
       "      <td>night</td>\n",
       "      <td>night</td>\n",
       "    </tr>\n",
       "  </tbody>\n",
       "</table>\n",
       "</div>"
      ],
      "text/plain": [
       "       head       tail\n",
       "0     sport     sports\n",
       "1     sport      sport\n",
       "4     party       club\n",
       "5    casual     casual\n",
       "6    casual    casuals\n",
       "7    formal     formal\n",
       "9   wedding    wedding\n",
       "11  wedding   weddings\n",
       "12   indoor     indoor\n",
       "13  outdoor    outdoor\n",
       "14   indoor    indoors\n",
       "15   winter     winter\n",
       "17   cotton     summer\n",
       "18    track      track\n",
       "20    track   tracking\n",
       "21  festive    festive\n",
       "22    party      party\n",
       "23  festive   festival\n",
       "25  festive  christmas\n",
       "26    beach      beach\n",
       "29   ethnic     ethnic\n",
       "31   ethnic    ethnics\n",
       "32   casual        day\n",
       "35   casual       home\n",
       "37   casual   everyday\n",
       "38  western    western\n",
       "39   office     office\n",
       "41  evening    evening\n",
       "42   office       work\n",
       "45  festive     diwali\n",
       "47    night      sleep\n",
       "8    cotton     cotton\n",
       "16    night      night"
      ]
     },
     "execution_count": 47,
     "metadata": {},
     "output_type": "execute_result"
    }
   ],
   "source": [
    "ocassions_map"
   ]
  },
  {
   "cell_type": "code",
   "execution_count": 48,
   "id": "b759ebe5",
   "metadata": {
    "ExecuteTime": {
     "end_time": "2022-08-08T19:41:14.409808Z",
     "start_time": "2022-08-08T19:41:14.385806Z"
    }
   },
   "outputs": [],
   "source": [
    "x = {'gender_maps' : {'man': 'men', 'men': 'men', 'mans': 'men', 'mens': 'men', \"man's\": 'men', \"men's\": 'men',\n",
    "                            \"mans'\": 'men', \"mens'\": 'men', 'male': 'men', 'husband': 'men', 'boyfriend': 'men',\n",
    "                            'boy friend': 'men', 'gents': 'men', 'gent': 'men',\n",
    "                            'woman': 'women', 'womans': 'women', \"woman's\": 'women', \"womans'\": 'women',\n",
    "                            'women': 'women', 'womens': 'women', \"women's\": 'women', \"womens'\": 'women',\n",
    "                            'lady': 'women', 'ladies': 'women', 'ladie': 'women', \"lady's\": 'women', 'female': 'women',\n",
    "                            'wife': 'women', 'girlfriend': 'women', 'girl friend': 'women',\n",
    "                            'girl': 'girls', 'girls': 'girls', \"girl's\": 'girls', \"girls'\": 'girls', 'boy': 'boys',\n",
    "                            'boys': 'boys', \"boy's\": 'boys', \"boys'\": 'boys', 'kid': 'kids', 'kids': 'kids',\n",
    "                            \"kid's\": 'kids', \"kids'\": 'kids',\"bacchon\":'kids',\n",
    "                            'unisex': 'unisex', 'friend': 'unisex', 'baby': 'infant', 'babies': 'infant',\n",
    "                            'couple': 'couples'},\n",
    "'ocassions_maps' : {'sports': 'sport', 'sport': 'sport', 'club': 'party', 'casual': 'casual', 'casuals': 'casual',\n",
    "                               'formal': 'formal', 'wedding': 'wedding', 'weddings': 'wedding', 'indoor': 'indoor',\n",
    "                               'outdoor': 'outdoor', 'indoors': 'indoor', 'winter': 'winter', 'summer': 'cotton',\n",
    "                               'tracking': 'track', 'festive': 'festive', 'party': 'party',\n",
    "                               'festival': 'festive', 'christmas': 'festive', 'beach': 'beach', 'ethnic': 'ethnic',\n",
    "                               'ethnics': 'ethnic', 'day': 'casual', 'home': 'casual', 'everyday': 'casual',\n",
    "                               'western': 'western', 'office': 'office', 'evening': 'evening', 'work': 'office',\n",
    "                               'diwali': 'festive', 'sleep': 'night', 'cotton': 'cotton', 'night': 'night', \n",
    "                               'traditonal':'ethnic', 'daily':'casual'\n",
    "                              },\n",
    "'ocassions_reverse' : {'sport': ['sport'],\n",
    " 'party': ['party'],\n",
    " 'casual': ['casual', 'day', 'home', 'everyday', 'daily'],\n",
    " 'formal': ['formal'],\n",
    " 'wedding': ['wedding'],\n",
    " 'indoor': ['indoor'],\n",
    " 'outdoor': ['outdoor'],\n",
    " 'winter': ['winter','wool'],\n",
    " 'summer': ['summer','cotton'],\n",
    " 'track': ['track'],\n",
    " 'festive': ['festive','festival', 'christmas', 'diwali'],\n",
    " 'beach': ['beach'],\n",
    " 'ethnic': ['ethnic', 'traditonal'],\n",
    " 'western': ['western'],\n",
    " 'office': ['office','work'],\n",
    " 'evening': ['evening'],\n",
    " 'night': ['night']},\n",
    "     \n",
    "'stops':list(set(stopwords.words('english')) - {\"after\",\"under\"}),\n",
    "'block_list':['single']\n",
    "}\n",
    "\n",
    "import json\n",
    "json.dump(x,open(\"hnt_support.json\",'w'))"
   ]
  },
  {
   "cell_type": "code",
   "execution_count": 49,
   "id": "c7afed3e",
   "metadata": {
    "ExecuteTime": {
     "end_time": "2022-08-08T19:20:50.977529Z",
     "start_time": "2022-08-08T19:20:50.969528Z"
    }
   },
   "outputs": [],
   "source": [
    "tmp = {}\n",
    "for i,j in x['ocassions_maps'].items():\n",
    "    if j in tmp:\n",
    "        if i.rstrip('s') not in tmp[j]:\n",
    "            tmp[j].append(i)\n",
    "    else:\n",
    "        tmp[j] = []"
   ]
  },
  {
   "cell_type": "code",
   "execution_count": 50,
   "id": "42b11401",
   "metadata": {
    "ExecuteTime": {
     "end_time": "2022-08-08T19:22:46.674406Z",
     "start_time": "2022-08-08T19:22:46.669406Z"
    }
   },
   "outputs": [
    {
     "data": {
      "text/plain": [
       "{'sport': ['sport'],\n",
       " 'party': ['party'],\n",
       " 'casual': ['casuals', 'day', 'home', 'everyday', 'daily'],\n",
       " 'formal': [],\n",
       " 'wedding': ['weddings'],\n",
       " 'indoor': ['indoors'],\n",
       " 'outdoor': [],\n",
       " 'winter': [],\n",
       " 'cotton': ['cotton'],\n",
       " 'track': [],\n",
       " 'festive': ['festival', 'christmas', 'diwali'],\n",
       " 'beach': [],\n",
       " 'ethnic': ['ethnics', 'traditonal'],\n",
       " 'western': [],\n",
       " 'office': ['work'],\n",
       " 'evening': [],\n",
       " 'night': ['night']}"
      ]
     },
     "execution_count": 50,
     "metadata": {},
     "output_type": "execute_result"
    }
   ],
   "source": [
    "tmp"
   ]
  },
  {
   "cell_type": "code",
   "execution_count": 62,
   "id": "e25f1254",
   "metadata": {},
   "outputs": [],
   "source": [
    "DEVICE = \"cpu\" #if cuda.is_available() and INFERENCE_DEVICE != 'cpu' else \"cpu\"\n",
    "\n",
    "class HeadNTailModel:\n",
    "    def __init__(self, head_tail_path, support_path ,head_queries, model_path='multi-qa-MiniLM-L6-dot-v1'):\n",
    "        support = json.load(open(support_path))\n",
    "        self.gender_maps = support['gender_maps']\n",
    "        self.ocassions_maps = support['ocassions_reverse']\n",
    "        self.stops = set(support['stops'])\n",
    "        self.encoder = SentenceTransformer(model_path, device=DEVICE)\n",
    "        self.head_tail = pd.read_csv(head_tail_path)\n",
    "        self.heads_all = list(set(self.head_tail['head']))\n",
    "        self.all_heads = self.encoder.encode(self.heads_all)\n",
    "        self.query_cluster_map = dict(self.head_tail[['tail','head']].values)\n",
    "        self.all_cluster = list(self.query_cluster_map)\n",
    "        self.cluster_all = self.encoder.encode(self.all_cluster)\n",
    "        self.synonyms = dict(self.head_tail[['tail','head']].groupby('head',as_index=0).agg({'tail':list}).values)\n",
    "        self.query_embedding = lambda x: self.encoder.encode(x, show_progress_bar=False)\n",
    "        self.block_list = support['block_list']\n",
    "        self.head_queries = pd.read_csv(head_queries)\n",
    "        self.norm_queries = list(self.head_queries['normalized_query'].dropna())\n",
    "        self.norm_sets = list(self.head_queries['normalized_query'].dropna().str.split(' ').apply(set))\n",
    "        self.fact = 21\n",
    "        \n",
    "    def get_synonyms(self, heads_all, all_heads, query, topn, th):\n",
    "        sets = set(query.split(' '))\n",
    "        chars = query.replace(' ', '')\n",
    "        if query in self.all_cluster:\n",
    "            return [query]\n",
    "        elif chars in self.all_cluster:\n",
    "            return [chars]\n",
    "\n",
    "        out = []\n",
    "        cos_scores = util.cos_sim(self.query_embedding(query), all_heads)[0]\n",
    "        top_results = torch.topk(cos_scores, k=topn)\n",
    "        for i, j in zip(top_results.indices, top_results.values):\n",
    "            if j >= th:\n",
    "                tmp = heads_all[i]\n",
    "                if set(tmp.split(' ')) == sets:\n",
    "                    return [tmp]\n",
    "                elif chars == tmp.replace(' ', ''):\n",
    "                    return [tmp]\n",
    "                else:\n",
    "                    out.append(tmp)                    \n",
    "        return out\n",
    "\n",
    "    def unpopulate(self, query, ner):\n",
    "        for i, att in ner.items():\n",
    "            if i in ['brand', 'gender', 'material', 'model_name', 'style',  'size', 'capacity',\n",
    "                     'memory','occasions']:\n",
    "                for att_ in att:\n",
    "                    query= ' '.join([i for i in query.split(' ') if i not in att or i in self.block_list])\n",
    "            elif i in ['color']:\n",
    "                query= ' '.join([i for i in query.split(' ') if i not in att+['color','coloured','colored','colour','and']])\n",
    "                \n",
    "        split = list(filter(lambda x: len(x) > 0, query.split(\" \")))\n",
    "        if len(split) == 0:\n",
    "            return ''\n",
    "        if split[0].lower() in self.stops:\n",
    "            split.pop(0)\n",
    "        if len(split) == 0:\n",
    "            return ''\n",
    "        if split[-1].lower() in self.stops:\n",
    "            split.pop()\n",
    "        query = \" \".join(split)\n",
    "        return query\n",
    "\n",
    "    def populate(self, unpopulated, ner):\n",
    "        query = ' '\n",
    "        for i, att in ner.items():\n",
    "            if i in ['material','occasions', 'style', 'color', 'size','brand']:\n",
    "                for att_ in att:\n",
    "                    if att_ not in self.block_list:\n",
    "                        query += att_ + \" \"\n",
    "            elif i == 'gender':\n",
    "                for att_ in att:\n",
    "                    query += self.gender_maps.get(att_, att_) + \" \"\n",
    "                if self.gender_maps.get(att_, att_) == 'men':\n",
    "                    unpopulated = unpopulated.replace('dress','wear').strip()\n",
    "                    \n",
    "        query += unpopulated + \" \"\n",
    "        for i, att in ner.items():\n",
    "            if i in ['capacity', 'memory','model_name']:\n",
    "                for att_ in att:\n",
    "                    query += att_ + \" \"\n",
    "        return query.strip()\n",
    "\n",
    "    def get_head(self,tmp,tmp_split):\n",
    "        try:\n",
    "            tmp = self.norm_queries[self.norm_sets.index(tmp_split)]\n",
    "            return tmp\n",
    "        except:\n",
    "            return tmp\n",
    "        \n",
    "        \n",
    "    def get_head_query(self, query: str, ner,th = 0.95,enable=True):\n",
    "        rk = 1\n",
    "        query_split = set(query.split())\n",
    "        tmp_ = self.get_head(query,query_split)\n",
    "\n",
    "        df = {'input_query': query , 'head_query':tmp_ , 'synonyms_list':[tmp_],'boost':[{'rank':rk,'boost':self.fact-rk,'value':tmp_}]}\n",
    "\n",
    "        if not enable : return df\n",
    "\n",
    "        unpopulated = self.unpopulate(query, ner)\n",
    "        if unpopulated != '':\n",
    "            y = self.get_synonyms(self.all_cluster, self.cluster_all, unpopulated, 5, th)\n",
    "            if len(y) > 0:\n",
    "                y = self.query_cluster_map[y[0]]\n",
    "                syns = self.synonyms[y]\n",
    "            else:\n",
    "                y = unpopulated\n",
    "                syns = []\n",
    "            for j in ['combo','set','pack']:\n",
    "                if j in query and j not in y:\n",
    "                    y += ' '+ j\n",
    "                    syns = [k+ ' '+j if j not in k else k for k in syns ]\n",
    "                    break\n",
    "            \n",
    "            tmp = self.populate(y, ner)\n",
    "            \n",
    "            tmp_split = set(tmp.split())\n",
    "            matcher = tmp != query\n",
    "            \n",
    "            if matcher and tmp not in df['synonyms_list']:\n",
    "                tmp_ = self.get_head(tmp,tmp_split)\n",
    "                df['head_query'] = tmp_\n",
    "                df['synonyms_list'].append(tmp_)\n",
    "                rk+=1\n",
    "                df['boost'].append({'rank':rk,'boost':self.fact-rk,'value':tmp_})\n",
    "                \n",
    "            if matcher:\n",
    "                if 'occasions' in ner:\n",
    "                    ner_ = ner.copy()\n",
    "                    for i in self.ocassions_maps.get(ner['occasions'][0].replace('wear','').strip(), ner['occasions']):\n",
    "                        ner_['occasions'] = [i]\n",
    "                        tmp_ = self.populate(unpopulated, ner_)\n",
    "                        tmp_ = self.get_head(tmp_,set(tmp_.split()))\n",
    "                        if tmp_ != query and tmp_ != tmp and tmp_ not in df['synonyms_list']:\n",
    "                            df['synonyms_list'].append(tmp_)\n",
    "                            rk+=1\n",
    "                            df['boost'].append({'rank':rk,'boost':self.fact-rk,'value':tmp_})\n",
    "                else:\n",
    "                    tmp_ = self.populate(unpopulated, ner)\n",
    "\n",
    "                    if set(tmp_.split()) != set(query.split()) and set(tmp_.split()) != set(tmp.split()) and tmp_ not in df['synonyms_list']:\n",
    "                        df['synonyms_list'].append(tmp_)\n",
    "                        rk+=1\n",
    "                        df['boost'].append({'rank':rk,'boost':self.fact-rk,'value':tmp_})\n",
    "        return df"
   ]
  },
  {
   "cell_type": "code",
   "execution_count": 63,
   "id": "7f89ad17",
   "metadata": {
    "ExecuteTime": {
     "end_time": "2022-08-10T07:10:36.503176Z",
     "start_time": "2022-08-10T07:10:36.498176Z"
    }
   },
   "outputs": [],
   "source": [
    "# hnt.get_synonyms(hnt.all_cluster, hnt.cluster_all, 'h&m', 10, 0.90)"
   ]
  },
  {
   "cell_type": "code",
   "execution_count": 65,
   "id": "70c288fb",
   "metadata": {
    "ExecuteTime": {
     "end_time": "2022-08-10T07:10:38.318210Z",
     "start_time": "2022-08-10T07:10:36.822181Z"
    }
   },
   "outputs": [],
   "source": [
    "hnt = HeadNTailModel('head_tail_maps.csv','hnt_support.json','head_queries_norm.csv')"
   ]
  },
  {
   "cell_type": "code",
   "execution_count": 72,
   "id": "9b281bac",
   "metadata": {
    "ExecuteTime": {
     "end_time": "2022-08-10T07:10:56.305703Z",
     "start_time": "2022-08-10T07:10:51.913704Z"
    }
   },
   "outputs": [
    {
     "data": {
      "text/plain": [
       "{'input_query': 'black jack and jones tshirt',\n",
       " 'head_query': 'black jack jones tshirt',\n",
       " 'synonyms_list': ['black jack and jones tshirt', 'black jack jones tshirt'],\n",
       " 'boost': [{'rank': 1, 'boost': 20, 'value': 'black jack and jones tshirt'},\n",
       "  {'rank': 2, 'boost': 19, 'value': 'black jack jones tshirt'}]}"
      ]
     },
     "execution_count": 72,
     "metadata": {},
     "output_type": "execute_result"
    }
   ],
   "source": [
    "\n",
    "hnt.get_head_query('black jack and jones tshirt',{'color':['black']},enable=True)"
   ]
  },
  {
   "cell_type": "code",
   "execution_count": null,
   "id": "ad5a735b",
   "metadata": {
    "ExecuteTime": {
     "end_time": "2022-08-08T20:15:02.261833Z",
     "start_time": "2022-08-08T20:15:02.247798Z"
    }
   },
   "outputs": [],
   "source": [
    "# hnt.query_cluster_map['wificamera']"
   ]
  },
  {
   "cell_type": "code",
   "execution_count": null,
   "id": "6e8dcc61",
   "metadata": {
    "ExecuteTime": {
     "end_time": "2022-08-08T20:15:02.702833Z",
     "start_time": "2022-08-08T20:15:02.357800Z"
    }
   },
   "outputs": [],
   "source": [
    "data = pd.read_csv('data/head_queries_with_qps722.csv')"
   ]
  },
  {
   "cell_type": "code",
   "execution_count": null,
   "id": "dc0f6b48",
   "metadata": {
    "ExecuteTime": {
     "end_time": "2022-08-08T20:15:02.858891Z",
     "start_time": "2022-08-08T20:15:02.798895Z"
    }
   },
   "outputs": [],
   "source": [
    "data"
   ]
  },
  {
   "cell_type": "code",
   "execution_count": null,
   "id": "036cb23c",
   "metadata": {
    "ExecuteTime": {
     "end_time": "2022-08-08T20:15:02.968892Z",
     "start_time": "2022-08-08T20:15:02.954892Z"
    }
   },
   "outputs": [],
   "source": [
    "# data['query.1']\n",
    "data.columns"
   ]
  },
  {
   "cell_type": "code",
   "execution_count": null,
   "id": "f349cb99",
   "metadata": {
    "ExecuteTime": {
     "end_time": "2022-08-08T20:15:03.095891Z",
     "start_time": "2022-08-08T20:15:03.065925Z"
    }
   },
   "outputs": [],
   "source": [
    "data = data[['query','normalized_query','% User Searching', 'Auto Suggest Term Click', 'C. R. %',\n",
    "       'Conversion Rate', 'Int. Searches (e427)', 'Int. Searches / Visits',\n",
    "       'L1', 'L2', 'L3', 'L4', 'NER', 'Null Search %', 'Occurrences', 'Orders',\n",
    "       'PV/V', 'Search CTR (New Def.)', 'Visits', 'brand', 'capacity', 'color',\n",
    "       'gender', 'material', 'memory', 'message', 'model_name',\n",
    "        'occasions', 'product_type',  'result_type',\n",
    "       'searched_term', 'size', 'style', 'total_count']]"
   ]
  },
  {
   "cell_type": "code",
   "execution_count": null,
   "id": "ea7d42f3",
   "metadata": {
    "ExecuteTime": {
     "end_time": "2022-08-08T20:15:04.838678Z",
     "start_time": "2022-08-08T20:15:03.747593Z"
    }
   },
   "outputs": [],
   "source": [
    "data['NER'] = data['NER'].replace({'0':'{}'}).apply(eval)"
   ]
  },
  {
   "cell_type": "code",
   "execution_count": null,
   "id": "e8f6fb5d",
   "metadata": {
    "ExecuteTime": {
     "end_time": "2022-08-08T20:15:04.947819Z",
     "start_time": "2022-08-08T20:15:04.934646Z"
    }
   },
   "outputs": [],
   "source": [
    "from tqdm.notebook import tqdm\n",
    "tqdm.pandas()"
   ]
  },
  {
   "cell_type": "code",
   "execution_count": null,
   "id": "57b0d99f",
   "metadata": {
    "ExecuteTime": {
     "end_time": "2022-08-08T20:15:09.322430Z",
     "start_time": "2022-08-08T20:15:09.318467Z"
    }
   },
   "outputs": [],
   "source": [
    "def get_fields(df):\n",
    "    x = hnt.get_head_query(df['query'],df['NER'])\n",
    "    for i,j in x.items():\n",
    "        df[i] = j\n",
    "    return df"
   ]
  },
  {
   "cell_type": "code",
   "execution_count": null,
   "id": "853487e6",
   "metadata": {
    "ExecuteTime": {
     "end_time": "2022-08-08T20:25:47.105346Z",
     "start_time": "2022-08-08T20:15:09.795468Z"
    }
   },
   "outputs": [],
   "source": [
    "data = data.progress_apply(get_fields,axis=1)"
   ]
  },
  {
   "cell_type": "code",
   "execution_count": null,
   "id": "68fb6d09",
   "metadata": {
    "ExecuteTime": {
     "end_time": "2022-08-08T20:25:47.265346Z",
     "start_time": "2022-08-08T20:25:47.250344Z"
    }
   },
   "outputs": [],
   "source": [
    "data.columns"
   ]
  },
  {
   "cell_type": "code",
   "execution_count": null,
   "id": "b1ed421b",
   "metadata": {
    "ExecuteTime": {
     "end_time": "2022-08-08T20:25:48.724504Z",
     "start_time": "2022-08-08T20:25:47.408348Z"
    }
   },
   "outputs": [],
   "source": [
    "data[['query', 'normalized_query', 'input_query', 'head_query', 'synonyms_list', 'boost','% User Searching',\n",
    "       'Auto Suggest Term Click', 'C. R. %', 'Conversion Rate',\n",
    "       'Int. Searches (e427)', 'Int. Searches / Visits', 'L1', 'L2', 'L3',\n",
    "       'L4', 'NER', 'Null Search %', 'Occurrences', 'Orders', 'PV/V',\n",
    "       'Search CTR (New Def.)', 'Visits', 'brand', 'capacity', 'color',\n",
    "       'gender', 'material', 'memory', 'message', 'model_name', 'occasions',\n",
    "       'product_type', 'result_type', 'searched_term', 'size', 'style',\n",
    "       'total_count']].to_csv('tail_share_v4_8922.csv',index=0)"
   ]
  },
  {
   "cell_type": "code",
   "execution_count": null,
   "id": "9b76696d",
   "metadata": {},
   "outputs": [],
   "source": []
  },
  {
   "cell_type": "code",
   "execution_count": null,
   "id": "22188a10",
   "metadata": {
    "ExecuteTime": {
     "end_time": "2022-08-01T19:09:21.085972Z",
     "start_time": "2022-08-01T19:09:21.031008Z"
    }
   },
   "outputs": [],
   "source": [
    "data"
   ]
  },
  {
   "cell_type": "code",
   "execution_count": null,
   "id": "0ded996e",
   "metadata": {
    "ExecuteTime": {
     "end_time": "2022-08-01T19:08:49.705684Z",
     "start_time": "2022-08-01T19:08:49.625577Z"
    }
   },
   "outputs": [],
   "source": [
    "data"
   ]
  },
  {
   "cell_type": "code",
   "execution_count": null,
   "id": "94fa8f63",
   "metadata": {
    "ExecuteTime": {
     "end_time": "2022-08-01T17:29:49.836461Z",
     "start_time": "2022-08-01T17:29:49.793455Z"
    }
   },
   "outputs": [],
   "source": [
    "brands"
   ]
  },
  {
   "cell_type": "code",
   "execution_count": null,
   "id": "d5c5618d",
   "metadata": {},
   "outputs": [],
   "source": []
  },
  {
   "cell_type": "code",
   "execution_count": null,
   "id": "c8351386",
   "metadata": {
    "ExecuteTime": {
     "end_time": "2022-08-01T15:07:19.172594Z",
     "start_time": "2022-08-01T15:07:19.164812Z"
    }
   },
   "outputs": [],
   "source": [
    "final_data = pd.read_csv('head_tail_maps.csv')"
   ]
  },
  {
   "cell_type": "code",
   "execution_count": null,
   "id": "b1207e15",
   "metadata": {
    "ExecuteTime": {
     "end_time": "2022-08-01T14:15:39.700183Z",
     "start_time": "2022-08-01T14:15:39.668088Z"
    }
   },
   "outputs": [],
   "source": [
    "final_data['head'] = final_data['head'].str.replace('omen','').str.strip()"
   ]
  },
  {
   "cell_type": "code",
   "execution_count": null,
   "id": "b33384c4",
   "metadata": {
    "ExecuteTime": {
     "end_time": "2022-08-01T13:02:23.763683Z",
     "start_time": "2022-08-01T13:02:23.755694Z"
    }
   },
   "outputs": [],
   "source": [
    "# final_data"
   ]
  },
  {
   "cell_type": "code",
   "execution_count": null,
   "id": "4ea49ae7",
   "metadata": {
    "ExecuteTime": {
     "end_time": "2022-08-01T13:02:24.068380Z",
     "start_time": "2022-08-01T13:02:24.044380Z"
    }
   },
   "outputs": [],
   "source": [
    "final_data = final_data[~final_data['tail'].str.contains('year|size')]"
   ]
  },
  {
   "cell_type": "code",
   "execution_count": null,
   "id": "e40587f1",
   "metadata": {
    "ExecuteTime": {
     "end_time": "2022-08-01T14:15:55.580385Z",
     "start_time": "2022-08-01T14:15:55.545263Z"
    }
   },
   "outputs": [],
   "source": [
    "final_data = final_data[['tail','head']].drop_duplicates(subset=['tail'])"
   ]
  },
  {
   "cell_type": "code",
   "execution_count": null,
   "id": "40009fed",
   "metadata": {
    "ExecuteTime": {
     "end_time": "2022-08-01T15:07:28.336903Z",
     "start_time": "2022-08-01T15:07:28.321909Z"
    }
   },
   "outputs": [],
   "source": [
    "indx = {j:i for i,j in enumerate(final_data['head'].drop_duplicates())}"
   ]
  },
  {
   "cell_type": "code",
   "execution_count": null,
   "id": "c8a32f67",
   "metadata": {
    "ExecuteTime": {
     "end_time": "2022-08-01T15:07:30.155387Z",
     "start_time": "2022-08-01T15:07:30.137788Z"
    }
   },
   "outputs": [],
   "source": [
    "final_data['index'] = final_data['head'].apply(lambda x: indx[x] )"
   ]
  },
  {
   "cell_type": "code",
   "execution_count": null,
   "id": "28b1047c",
   "metadata": {
    "ExecuteTime": {
     "end_time": "2022-08-01T15:11:46.627233Z",
     "start_time": "2022-08-01T15:11:46.605214Z"
    }
   },
   "outputs": [],
   "source": [
    "final_data.to_csv('head_tail_maps.csv',index=0)"
   ]
  },
  {
   "cell_type": "code",
   "execution_count": null,
   "id": "75a2480d",
   "metadata": {
    "ExecuteTime": {
     "end_time": "2022-08-01T15:08:24.058100Z",
     "start_time": "2022-08-01T15:08:24.050067Z"
    }
   },
   "outputs": [],
   "source": [
    "brand = [i for i in brands if len(i.split())> 1]"
   ]
  },
  {
   "cell_type": "code",
   "execution_count": null,
   "id": "a34af6c3",
   "metadata": {
    "ExecuteTime": {
     "end_time": "2022-08-01T15:09:58.824268Z",
     "start_time": "2022-08-01T15:09:58.806478Z"
    }
   },
   "outputs": [],
   "source": [
    "final_data = pd.concat([final_data,pd.DataFrame({'tail':brand,'head':brand})])"
   ]
  },
  {
   "cell_type": "code",
   "execution_count": null,
   "id": "0f13fcf8",
   "metadata": {
    "ExecuteTime": {
     "end_time": "2022-08-01T15:11:07.320754Z",
     "start_time": "2022-08-01T15:11:07.305049Z"
    }
   },
   "outputs": [],
   "source": [
    "final_data = pd.concat([final_data,pd.DataFrame({'tail':list(mnumber['model_name'].drop_duplicates()),'head':list(mnumber['model_name'].drop_duplicates())})])"
   ]
  },
  {
   "cell_type": "code",
   "execution_count": null,
   "id": "5201ebaa",
   "metadata": {
    "ExecuteTime": {
     "end_time": "2022-08-01T15:11:11.809809Z",
     "start_time": "2022-08-01T15:11:11.792614Z"
    }
   },
   "outputs": [],
   "source": [
    "final_data"
   ]
  },
  {
   "cell_type": "code",
   "execution_count": null,
   "id": "e9640afb",
   "metadata": {},
   "outputs": [],
   "source": []
  },
  {
   "cell_type": "code",
   "execution_count": null,
   "id": "10c89cef",
   "metadata": {},
   "outputs": [],
   "source": []
  },
  {
   "cell_type": "code",
   "execution_count": null,
   "id": "07e312d5",
   "metadata": {},
   "outputs": [],
   "source": []
  },
  {
   "cell_type": "code",
   "execution_count": null,
   "id": "072229b9",
   "metadata": {},
   "outputs": [],
   "source": []
  },
  {
   "cell_type": "code",
   "execution_count": null,
   "id": "ae71e823",
   "metadata": {},
   "outputs": [],
   "source": []
  },
  {
   "cell_type": "code",
   "execution_count": null,
   "id": "320710e6",
   "metadata": {
    "ExecuteTime": {
     "end_time": "2022-08-01T15:06:56.348807Z",
     "start_time": "2022-08-01T15:06:55.553097Z"
    }
   },
   "outputs": [],
   "source": [
    "head = pd.read_csv('data/head_queries_with_qps722.csv')\n",
    "pptype = pd.read_csv('data/product_type_with_qps722.csv')\n",
    "mnumber = pd.read_csv('data/modelnames0718.csv')\n",
    "tail = pd.read_csv('data/tail_queries_with_ner.csv')\n"
   ]
  },
  {
   "cell_type": "code",
   "execution_count": null,
   "id": "b9abe6df",
   "metadata": {
    "ExecuteTime": {
     "end_time": "2022-08-01T15:06:57.322912Z",
     "start_time": "2022-08-01T15:06:57.307883Z"
    }
   },
   "outputs": [],
   "source": [
    "def eval_data(head):\n",
    "    cols = ['brand','gender','occasions','product_type','material','model_name','style','color','size','capacity','memory','NER']\n",
    "    head = head.fillna('[]')\n",
    "    for i in cols:\n",
    "#         print(i)\n",
    "        if i in head.columns:\n",
    "            head[i] = head[i].apply(eval)\n",
    "    return head"
   ]
  },
  {
   "cell_type": "code",
   "execution_count": null,
   "id": "5792045b",
   "metadata": {
    "ExecuteTime": {
     "end_time": "2022-08-01T15:07:08.892078Z",
     "start_time": "2022-08-01T15:06:58.381663Z"
    }
   },
   "outputs": [],
   "source": [
    "pptype = eval_data(pptype)\n",
    "head = eval_data(head)\n",
    "tail = eval_data(tail)"
   ]
  },
  {
   "cell_type": "code",
   "execution_count": null,
   "id": "0cf18131",
   "metadata": {
    "ExecuteTime": {
     "end_time": "2022-08-01T15:07:12.746370Z",
     "start_time": "2022-08-01T15:07:10.987389Z"
    }
   },
   "outputs": [],
   "source": [
    "pptype['unpopulated'] = pptype.apply(lambda x: hnt.unpopulate(x['normalized_query'],x['NER']),axis=1)\n",
    "head['unpopulated'] = head.apply(lambda x: hnt.unpopulate(x['normalized_query'],x['NER']),axis=1)\n",
    "tail['unpopulated'] = tail.apply(lambda x: hnt.unpopulate(x['normalized_query'],x['NER']),axis=1)"
   ]
  },
  {
   "cell_type": "code",
   "execution_count": null,
   "id": "6c491133",
   "metadata": {
    "ExecuteTime": {
     "end_time": "2022-08-01T15:07:14.750667Z",
     "start_time": "2022-08-01T15:07:14.479593Z"
    }
   },
   "outputs": [],
   "source": [
    "ocassions = pd.concat([pptype['occasions'].explode().dropna().drop_duplicates(),head['occasions'].explode().dropna().drop_duplicates(),tail['occasions'].explode().dropna().drop_duplicates()]).drop_duplicates()\n",
    "brands = pd.concat([pptype['brand'].explode().dropna().drop_duplicates(),head['brand'].explode().dropna().drop_duplicates(),tail['brand'].explode().dropna().drop_duplicates()]).drop_duplicates()"
   ]
  },
  {
   "cell_type": "code",
   "execution_count": null,
   "id": "8df340b5",
   "metadata": {
    "ExecuteTime": {
     "end_time": "2022-08-01T07:57:44.914587Z",
     "start_time": "2022-08-01T07:57:44.900546Z"
    }
   },
   "outputs": [],
   "source": [
    "final_data = pd.read_csv('head_tail_maps.csv')"
   ]
  },
  {
   "cell_type": "code",
   "execution_count": null,
   "id": "16d7e0a4",
   "metadata": {
    "ExecuteTime": {
     "end_time": "2022-08-01T08:01:02.804644Z",
     "start_time": "2022-08-01T08:01:02.795255Z"
    }
   },
   "outputs": [],
   "source": [
    "final_data = final_data[~final_data['tail'].str.contains('1|2|3|4|5|6|7|8|9|0')]"
   ]
  },
  {
   "cell_type": "code",
   "execution_count": null,
   "id": "93eabb76",
   "metadata": {
    "ExecuteTime": {
     "end_time": "2022-08-01T08:13:22.699703Z",
     "start_time": "2022-08-01T08:13:22.676114Z"
    }
   },
   "outputs": [],
   "source": [
    "final_data['tail'] = final_data['tail'].apply(lambda x: ' '.join([i for i in x.split() if len(i) >2 ]).strip(' '))\n",
    "final_data['head'] = final_data['head'].apply(lambda x: ' '.join([i for i in x.split() if len(i) >2 ]).strip(' '))"
   ]
  },
  {
   "cell_type": "code",
   "execution_count": null,
   "id": "8efb198c",
   "metadata": {
    "ExecuteTime": {
     "end_time": "2022-08-01T11:02:02.765613Z",
     "start_time": "2022-08-01T11:02:02.730629Z"
    }
   },
   "outputs": [],
   "source": [
    "final_data = pd.read_csv('head_tail_ner.csv')"
   ]
  },
  {
   "cell_type": "code",
   "execution_count": null,
   "id": "f91f6ec9",
   "metadata": {
    "ExecuteTime": {
     "end_time": "2022-08-01T11:02:50.104183Z",
     "start_time": "2022-08-01T11:02:50.087180Z"
    }
   },
   "outputs": [],
   "source": [
    "final_data = final_data.drop_duplicates()"
   ]
  },
  {
   "cell_type": "code",
   "execution_count": null,
   "id": "82bec6ad",
   "metadata": {
    "ExecuteTime": {
     "end_time": "2022-08-01T11:18:02.307404Z",
     "start_time": "2022-08-01T11:18:02.283387Z"
    }
   },
   "outputs": [],
   "source": [
    "final_data['brand'] = final_data['brand'].apply(eval)"
   ]
  },
  {
   "cell_type": "code",
   "execution_count": null,
   "id": "3d9b0993",
   "metadata": {
    "ExecuteTime": {
     "end_time": "2022-08-01T11:21:52.026514Z",
     "start_time": "2022-08-01T11:21:52.015512Z"
    }
   },
   "outputs": [],
   "source": [
    "brand_to_igonre = set(final_data['brand'].explode().dropna().drop_duplicates()) - {'and'}"
   ]
  },
  {
   "cell_type": "code",
   "execution_count": null,
   "id": "f5d70737",
   "metadata": {
    "ExecuteTime": {
     "end_time": "2022-08-01T11:22:43.305194Z",
     "start_time": "2022-08-01T11:22:43.275198Z"
    }
   },
   "outputs": [],
   "source": [
    "final_data = final_data.explode('brand')\n",
    "final_data = final_data[~final_data.brand.isin(brand_to_igonre)]"
   ]
  },
  {
   "cell_type": "code",
   "execution_count": null,
   "id": "97bcedd7",
   "metadata": {
    "ExecuteTime": {
     "end_time": "2022-08-01T11:23:30.105927Z",
     "start_time": "2022-08-01T11:23:30.082889Z"
    }
   },
   "outputs": [],
   "source": [
    "final_data[['tail','head','index']].to_csv('head_tail_semi.csv',index=0)"
   ]
  },
  {
   "cell_type": "code",
   "execution_count": null,
   "id": "384a5f28",
   "metadata": {
    "ExecuteTime": {
     "end_time": "2022-07-31T20:01:40.647009Z",
     "start_time": "2022-07-31T20:01:40.632001Z"
    }
   },
   "outputs": [],
   "source": [
    "# pptype[pptype.unpopulated.str.isalnum()]\n",
    "# mnumber"
   ]
  },
  {
   "cell_type": "code",
   "execution_count": null,
   "id": "4ceed21e",
   "metadata": {
    "ExecuteTime": {
     "end_time": "2022-08-01T11:25:08.162972Z",
     "start_time": "2022-08-01T11:25:08.143436Z"
    }
   },
   "outputs": [],
   "source": [
    "ocassions.to_csv('ocassions_data.csv',index=0)"
   ]
  },
  {
   "cell_type": "code",
   "execution_count": null,
   "id": "5ecd018a",
   "metadata": {},
   "outputs": [],
   "source": []
  },
  {
   "cell_type": "code",
   "execution_count": null,
   "id": "c5d5eafd",
   "metadata": {
    "ExecuteTime": {
     "end_time": "2022-07-31T20:01:40.855033Z",
     "start_time": "2022-07-31T20:01:40.823999Z"
    }
   },
   "outputs": [],
   "source": [
    "pptype['unpopulated'] = pptype.unpopulated.str.replace('1|2|3|4|5|6|7|8|9|0','')\n",
    "pptype[pptype.unpopulated.str.contains('1|2|3|4|5|6|7|8|9|0')].tail(20)\n",
    "pptype = pptype.drop_duplicates('unpopulated')\n",
    "pptype['unpopulated'] = pptype.unpopulated.apply(lambda x: ' '.join([i for i in x.split() if len(i) >2 or i not in ['yrs','year','years','utsav']]).strip(' '))"
   ]
  },
  {
   "cell_type": "code",
   "execution_count": null,
   "id": "0d08dea5",
   "metadata": {
    "ExecuteTime": {
     "end_time": "2022-07-31T20:01:41.030998Z",
     "start_time": "2022-07-31T20:01:41.016033Z"
    }
   },
   "outputs": [],
   "source": [
    "# head['Search CTR (New Def.)'].apply(str).str.replace('\\[\\]','0').fillna(0).astype(float)"
   ]
  },
  {
   "cell_type": "code",
   "execution_count": null,
   "id": "733bc98f",
   "metadata": {
    "ExecuteTime": {
     "end_time": "2022-07-31T20:01:41.329006Z",
     "start_time": "2022-07-31T20:01:41.203997Z"
    }
   },
   "outputs": [],
   "source": [
    "head['score'] = head['Search CTR (New Def.)'].apply(str).str.replace('\\[\\]','0').fillna(0).astype(float) * head['Occurrences'].apply(str).str.replace('\\[\\]','0').fillna(0).astype(float)\n",
    "head['score'] = head['score'].fillna(0)"
   ]
  },
  {
   "cell_type": "code",
   "execution_count": null,
   "id": "394e9300",
   "metadata": {
    "ExecuteTime": {
     "end_time": "2022-07-31T20:01:41.502998Z",
     "start_time": "2022-07-31T20:01:41.488032Z"
    }
   },
   "outputs": [],
   "source": [
    "from tqdm.notebook import tqdm\n",
    "tqdm.pandas()"
   ]
  },
  {
   "cell_type": "code",
   "execution_count": null,
   "id": "4419a2b0",
   "metadata": {
    "ExecuteTime": {
     "end_time": "2022-07-31T20:01:41.802000Z",
     "start_time": "2022-07-31T20:01:41.659996Z"
    }
   },
   "outputs": [],
   "source": [
    "head = head.sort_values(by ='score',ascending=False)\n",
    "head = head[head.unpopulated.apply(len) != 0]"
   ]
  },
  {
   "cell_type": "code",
   "execution_count": null,
   "id": "d4fcaec5",
   "metadata": {
    "ExecuteTime": {
     "end_time": "2022-07-31T20:01:42.055031Z",
     "start_time": "2022-07-31T20:01:41.964000Z"
    }
   },
   "outputs": [],
   "source": [
    "head['unpopulated'] = head.unpopulated.str.replace('1|2|3|4|5|6|7|8|9|0','')\n",
    "head[head.unpopulated.str.contains('1|2|3|4|5|6|7|8|9|0')].tail(20)\n",
    "head = head.drop_duplicates('unpopulated')\n",
    "head['unpopulated'] = head.unpopulated.apply(lambda x: ' '.join([i for i in x.split() if len(i) >2 and i not in ['yrs','year','years','utsav']]).strip(' '))"
   ]
  },
  {
   "cell_type": "code",
   "execution_count": null,
   "id": "bd54f2b1",
   "metadata": {
    "ExecuteTime": {
     "end_time": "2022-07-31T20:01:42.306997Z",
     "start_time": "2022-07-31T20:01:42.200001Z"
    }
   },
   "outputs": [],
   "source": [
    "head"
   ]
  },
  {
   "cell_type": "code",
   "execution_count": null,
   "id": "088f9d97",
   "metadata": {
    "ExecuteTime": {
     "end_time": "2022-07-31T20:01:42.781033Z",
     "start_time": "2022-07-31T20:01:42.485035Z"
    }
   },
   "outputs": [],
   "source": [
    "tail['unpopulated'] = tail.unpopulated.str.replace('1|2|3|4|5|6|7|8|9|0','')\n",
    "tail[tail.unpopulated.str.contains('1|2|3|4|5|6|7|8|9|0')].tail(20)\n",
    "tail = tail.drop_duplicates('unpopulated')\n",
    "tail['unpopulated'] = tail.unpopulated.apply(lambda x: ' '.join([i for i in x.split() if len(i) >2 or i not in ['yrs','year','years','utsav']]).strip(' '))"
   ]
  },
  {
   "cell_type": "code",
   "execution_count": null,
   "id": "f8bf2164",
   "metadata": {
    "ExecuteTime": {
     "end_time": "2022-08-01T08:15:04.147907Z",
     "start_time": "2022-08-01T08:15:04.133616Z"
    }
   },
   "outputs": [],
   "source": [
    "final_data[final_data['tail'].str.contains('n ')]"
   ]
  },
  {
   "cell_type": "code",
   "execution_count": null,
   "id": "9728062d",
   "metadata": {
    "ExecuteTime": {
     "end_time": "2022-08-01T10:37:36.008712Z",
     "start_time": "2022-08-01T10:37:35.987137Z"
    }
   },
   "outputs": [],
   "source": [
    "final_data.to_csv('head_tail_map_draft.csv',index=0)"
   ]
  },
  {
   "cell_type": "code",
   "execution_count": null,
   "id": "13d988c3",
   "metadata": {
    "ExecuteTime": {
     "end_time": "2022-08-01T10:37:17.646520Z",
     "start_time": "2022-08-01T10:37:17.630503Z"
    }
   },
   "outputs": [],
   "source": [
    "# final_data[final_data['index'].isna()]"
   ]
  },
  {
   "cell_type": "code",
   "execution_count": null,
   "id": "71ab708e",
   "metadata": {
    "ExecuteTime": {
     "end_time": "2022-08-01T08:04:17.367723Z",
     "start_time": "2022-08-01T08:03:57.791219Z"
    }
   },
   "outputs": [],
   "source": [
    "trmp = []\n",
    "for i in list(brands):\n",
    "    tmp = final_data[(final_data['tail'].str.startswith(i+' ')) | (final_data['tail'].str.endswith(' '+i)) | (final_data['tail'].str.contains(' '+i+' ')) ]\n",
    "    if len(tmp) !=0:\n",
    "        trmp.append(i)\n",
    "        print(i,len(tmp))"
   ]
  },
  {
   "cell_type": "code",
   "execution_count": null,
   "id": "d387ae78",
   "metadata": {
    "ExecuteTime": {
     "end_time": "2022-07-31T20:02:49.667320Z",
     "start_time": "2022-07-31T20:02:49.656319Z"
    }
   },
   "outputs": [],
   "source": [
    "prods = list(pd.concat([head['unpopulated'], pptype['unpopulated']]).drop_duplicates())"
   ]
  },
  {
   "cell_type": "code",
   "execution_count": null,
   "id": "faf64911",
   "metadata": {
    "ExecuteTime": {
     "end_time": "2022-08-01T11:25:53.311940Z",
     "start_time": "2022-08-01T11:25:53.095015Z"
    }
   },
   "outputs": [],
   "source": [
    "import hdbscan\n",
    "def get_clusters(prods,eps=[0.002,0.004,0.02,0.04],min_size = [2,3,4]):\n",
    "    groups = pd.DataFrame({'query':prods})\n",
    "    all_heads = hnt.encoder.encode(prods)\n",
    "    for i in tqdm(min_size):\n",
    "        for j in tqdm(eps):\n",
    "            clusterer = hdbscan.HDBSCAN( min_cluster_size=i,cluster_selection_epsilon=j)\n",
    "            clusterer.fit(all_heads)\n",
    "            groups['cluster_'+str(i)+'_'+str(j)] = clusterer.labels_\n",
    "    return clusterer , groups"
   ]
  },
  {
   "cell_type": "code",
   "execution_count": null,
   "id": "aefc0faf",
   "metadata": {
    "ExecuteTime": {
     "end_time": "2022-08-01T11:26:57.499368Z",
     "start_time": "2022-08-01T11:26:57.234368Z"
    }
   },
   "outputs": [],
   "source": [
    "clusterer , groups = get_clusters(list(ocassions),[0.002,0.004,0.1], [2,3,4])"
   ]
  },
  {
   "cell_type": "code",
   "execution_count": null,
   "id": "85bf9ccc",
   "metadata": {},
   "outputs": [],
   "source": []
  },
  {
   "cell_type": "code",
   "execution_count": null,
   "id": "2fb57cfb",
   "metadata": {
    "ExecuteTime": {
     "end_time": "2022-08-01T11:27:21.068566Z",
     "start_time": "2022-08-01T11:27:21.014610Z"
    }
   },
   "outputs": [],
   "source": [
    "all_heads = hnt.encoder.encode(list(ocassions))"
   ]
  },
  {
   "cell_type": "code",
   "execution_count": null,
   "id": "eb1850fc",
   "metadata": {
    "ExecuteTime": {
     "end_time": "2022-07-31T20:15:47.456892Z",
     "start_time": "2022-07-31T20:15:47.438890Z"
    }
   },
   "outputs": [],
   "source": [
    "max(groups['cluster_2_0.002'])"
   ]
  },
  {
   "cell_type": "code",
   "execution_count": null,
   "id": "d9853c47",
   "metadata": {
    "ExecuteTime": {
     "end_time": "2022-08-01T11:27:25.641033Z",
     "start_time": "2022-08-01T11:27:25.494911Z"
    }
   },
   "outputs": [],
   "source": [
    "from sklearn.cluster import KMeans\n",
    "\n",
    "kmeans = KMeans(n_clusters=6, random_state=0).fit(all_heads)\n",
    "# kmeans.predict([[0, 0], [12, 3]])\n"
   ]
  },
  {
   "cell_type": "code",
   "execution_count": null,
   "id": "abd553f9",
   "metadata": {
    "ExecuteTime": {
     "end_time": "2022-08-01T11:27:26.837423Z",
     "start_time": "2022-08-01T11:27:26.831384Z"
    }
   },
   "outputs": [],
   "source": [
    "groups['kmeans']  =kmeans.labels_\n"
   ]
  },
  {
   "cell_type": "code",
   "execution_count": null,
   "id": "be51913b",
   "metadata": {
    "ExecuteTime": {
     "end_time": "2022-08-01T11:27:27.942422Z",
     "start_time": "2022-08-01T11:27:27.912386Z"
    }
   },
   "outputs": [],
   "source": [
    "groups"
   ]
  },
  {
   "cell_type": "code",
   "execution_count": null,
   "id": "84b6d4fe",
   "metadata": {
    "ExecuteTime": {
     "end_time": "2022-08-01T11:27:36.517384Z",
     "start_time": "2022-08-01T11:27:36.506404Z"
    }
   },
   "outputs": [],
   "source": [
    "groups.to_csv('groups_ocassion.csv',index=0)"
   ]
  },
  {
   "cell_type": "code",
   "execution_count": null,
   "id": "b8a36e10",
   "metadata": {},
   "outputs": [],
   "source": []
  },
  {
   "cell_type": "code",
   "execution_count": null,
   "id": "31bab2c6",
   "metadata": {
    "ExecuteTime": {
     "end_time": "2022-07-31T20:45:02.733735Z",
     "start_time": "2022-07-31T20:45:02.717923Z"
    }
   },
   "outputs": [],
   "source": [
    "mapper = pd.read_csv('head_tail_maps.csv')"
   ]
  },
  {
   "cell_type": "code",
   "execution_count": null,
   "id": "11627107",
   "metadata": {
    "ExecuteTime": {
     "end_time": "2022-07-31T20:44:38.353093Z",
     "start_time": "2022-07-31T20:44:38.345518Z"
    }
   },
   "outputs": [],
   "source": [
    "# maaper = pd.read_csv('head_tail_map_v2.csv')\n",
    "# maaper2 = pd.read_csv('head_maps1.csv')"
   ]
  },
  {
   "cell_type": "code",
   "execution_count": null,
   "id": "a110f1ba",
   "metadata": {
    "ExecuteTime": {
     "end_time": "2022-07-31T20:45:06.034435Z",
     "start_time": "2022-07-31T20:45:06.009420Z"
    }
   },
   "outputs": [],
   "source": [
    "mapper"
   ]
  },
  {
   "cell_type": "code",
   "execution_count": null,
   "id": "09cf0c57",
   "metadata": {
    "ExecuteTime": {
     "end_time": "2022-08-01T05:20:09.577166Z",
     "start_time": "2022-08-01T05:20:09.497053Z"
    }
   },
   "outputs": [],
   "source": [
    "groups"
   ]
  },
  {
   "cell_type": "code",
   "execution_count": null,
   "id": "1d4c3f0c",
   "metadata": {},
   "outputs": [],
   "source": []
  }
 ],
 "metadata": {
  "hide_input": false,
  "kernelspec": {
   "display_name": "Python 3 (ipykernel)",
   "language": "python",
   "name": "python3"
  },
  "language_info": {
   "codemirror_mode": {
    "name": "ipython",
    "version": 3
   },
   "file_extension": ".py",
   "mimetype": "text/x-python",
   "name": "python",
   "nbconvert_exporter": "python",
   "pygments_lexer": "ipython3",
   "version": "3.9.7"
  },
  "varInspector": {
   "cols": {
    "lenName": 16,
    "lenType": 16,
    "lenVar": 40
   },
   "kernels_config": {
    "python": {
     "delete_cmd_postfix": "",
     "delete_cmd_prefix": "del ",
     "library": "var_list.py",
     "varRefreshCmd": "print(var_dic_list())"
    },
    "r": {
     "delete_cmd_postfix": ") ",
     "delete_cmd_prefix": "rm(",
     "library": "var_list.r",
     "varRefreshCmd": "cat(var_dic_list()) "
    }
   },
   "types_to_exclude": [
    "module",
    "function",
    "builtin_function_or_method",
    "instance",
    "_Feature"
   ],
   "window_display": false
  }
 },
 "nbformat": 4,
 "nbformat_minor": 5
}
